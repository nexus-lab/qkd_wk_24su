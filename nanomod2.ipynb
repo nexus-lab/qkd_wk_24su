{
 "cells": [
  {
   "cell_type": "markdown",
   "metadata": {
    "slideshow": {
     "slide_type": "slide"
    }
   },
   "source": [
    "# BB84: The First Quantum Key Distribution Protocol\n",
    "\n",
    "**Learning Outcomes:**\n",
    "\n",
    "Upon completion of this lesson:\n",
    "1. Students will apply the principle of superposition and no-cloning theorem to construct a quantum key distribution protocol.\n",
    "2. Students will apply quantum operations and measurement principles to quantum key distribution.\n",
    "3. Students will understand the importance of using non-orthogonal states in QKD.\n",
    "4. Students will analyze the QKD protocol for detecting eavesdropping.\n"
   ]
  },
  {
   "cell_type": "markdown",
   "metadata": {
    "scrolled": false,
    "slideshow": {
     "slide_type": "slide"
    }
   },
   "source": [
    "## 1 Background\n",
    "\n",
    "BB84 - truly is one of the most impactful protocols for public key exchange, and is credited with starting the entire field of quantum cryptography!\n",
    "\n",
    "Named after it’s inventors Charles Bennett and Gilles Brassard, the BB84 protocol demonstrates how fundamental laws of quantum mechanics can be used to build cryptographic key exchange protocols free of any mathematical assumptions. No classical analog of such a protocol exists."
   ]
  },
  {
   "cell_type": "markdown",
   "metadata": {
    "slideshow": {
     "slide_type": "slide"
    }
   },
   "source": [
    "## 2 Introduction - BB84\n",
    "\n",
    "BB84 relies on the following fundamental properties of qubits for security:\n",
    "\n",
    "1. No cloning theorem which states that arbitrary unknown single qubits cannot be cloned.\n",
    "\n",
    "2. Non-orthogonal qubits can not be reliable distinguished from each other.\n",
    "\n",
    "Both of these properties provide protection against an eavesdropper. In fact, the no-cloning theorem forces the eavesdropping to be done by an active attacker (as opposed to a passive attacker). By this we mean, the attackers cannot idly sit by copying the communication for later processing. The attacker will, at a minimum, have to intercept and resend all quantum communication.\n"
   ]
  },
  {
   "cell_type": "markdown",
   "metadata": {
    "slideshow": {
     "slide_type": "slide"
    }
   },
   "source": [
    "## 3 Assumptions\n",
    "\n",
    "Before we describe the BB84 protocol, let's list out its assumptions\n",
    "\n",
    "1. Single Photon Emissions: This is perhaps the most demanding assumption. BB84 is only secure when single photons are used to transmit key bits.\n",
    "\n",
    "2. Authenticated Channel: We assume that the transmitter and receiver are connected through authenticated channels (especially classical ones). In other words, Alice and Bob know who they are talking to over classical channels.\n",
    "\n",
    "3. Availability of both Quantum and Classical Channels: Although this is not a very strict requirement in that classical communication can be done over a quantum channel.\n",
    "\n",
    "\n",
    "\n",
    "\n"
   ]
  },
  {
   "cell_type": "markdown",
   "metadata": {
    "slideshow": {
     "slide_type": "slide"
    }
   },
   "source": [
    "## 4 The BB84 Protocol\n",
    "*The protocol is as follows.*\n",
    "\n",
    "### Pre-agreement (public)\n",
    "\n",
    "(i) Alice and Bob agree upon the non-orthogonal bases to be used. Traditionally these are the rectilinear (&#10010;) and diagonal (&#x2716;) bases.\n",
    "\n",
    "(ii) The parties then agree upon a mapping of bits to qubits. For example,\n",
    "\n",
    "|Basis| 0 |1|     \n",
    "|: -- :|:--:|:--:|\n",
    "| Rectilinear (&#10010;) |$\\mathrm{0}^{\\circ}$|$\\mathrm{90}^{\\circ}$\n",
    "| Diagonal (&#x2716;) | $\\mathrm{45}^{\\circ}$|$\\mathrm{135}^{\\circ}$      \n",
    "      \n",
    "\n",
    "Therefore, Alice transmits 0 degree polarised photon for bit 0 and and 90 degree polarized photon for bit 1 in rectilinear basis.\n",
    "Similarly, for the diagonal basis. Bob will measure the received photons in the same two bases.\n",
    "\n",
    "A linearly polarized photon behaves like a qubit and its state can be written as $\\begin{bmatrix}cos(\\theta)  \\\\  sin(\\theta)\\end{bmatrix}$, where $\\theta$ is the angle of polarization. Therefore, in the rectilinear basis a $0^\\circ$ polarized photon corresponds to the vector $\\begin{bmatrix}1\\\\0\\end{bmatrix}$ and a $90^\\circ$ polarized photon corresponds to the vector $\\begin{bmatrix}0\\\\1\\end{bmatrix}$.\n",
    "\n",
    "Similarly, in the diagonal basis a $45^\\circ$ polarized photon corresponds to $\\begin{bmatrix}\\frac{1}{\\sqrt{2}}\\\\\\frac{1}{\\sqrt{2}}\\end{bmatrix}$ and a $135^\\circ$ polarized photon corresponds to the state vector $\\begin{bmatrix}\\frac{1}{\\sqrt{2}}\\\\-\\frac{1}{\\sqrt{2}}\\end{bmatrix}$.\n"
   ]
  },
  {
   "cell_type": "markdown",
   "metadata": {
    "slideshow": {
     "slide_type": "slide"
    }
   },
   "source": [
    "## 5 Key Exchange Phase\n",
    "\n",
    "(i) Alice generates two random n-bit strings $k$ and $b$. The bits in $k$ form the key bits Alice wishes to transmit and bits in $b$ simply help chose &#10010; or &#x2716; basis.\n",
    "\n",
    "(ii) For each key bit $k_i$, Alice transmits one of the photons {&#8593;,&#8598;,&#8594;,&#8599;} depending on the basis dictated by $b_i$.\n",
    "\n",
    "(iii) For every photon received, Bob measures it in a randomly chosen basis, &#10010; or &#x2716;, and notes down his observations as bit string $k'$.\n",
    "\n",
    "If Bob happens to choose the “correct” basis $b_i$ for a photon pulse, he will retrieve the correct value of $k_i$ = $k_i’$  otherwise he will have a random result.\n"
   ]
  },
  {
   "cell_type": "markdown",
   "metadata": {
    "slideshow": {
     "slide_type": "slide"
    }
   },
   "source": [
    "## 6 Key Sifting Phase\n",
    "\n",
    "Once Bob has received and measured all the qubits, he announces to Alice the bases he used for each qubit. Alice then tells Bob which of the bases he used are correct. Both the parties then throw away the bits that Bob received in the incorrect bases which happens $\\frac{1}{2}$ the time.\n",
    "\n",
    "They keep the remaining bits as the sifted key.\n",
    "\n",
    "Now they proceed to check for evidence of eavesdropping. \n"
   ]
  },
  {
   "cell_type": "markdown",
   "metadata": {
    "slideshow": {
     "slide_type": "slide"
    }
   },
   "source": [
    "## 7 Eavesdropper Detection\n",
    "\n",
    "Ideally all the bits $k_i$ and $k_i’$ will match between Alice and Bob for the bases that matched between them. However, if an eavesdropper, Eve, tries to intercept and listen to the communications she will cause errors in some values that Bob should have received correctly. Therefore, Alice and Bob now publicly compare some of the bits received in the correct basis to detect if there is an eavesdropper. The probability that Eve had eavesdropped on a particular bit and yet Alice and Bob's bits matchup is $\\frac{1}{2}$. In other words, for every bit compared, Eve is detected with a probability of $\\frac{1}{2}$.\n",
    "\n",
    "#### The reasoning is as follows:\n",
    "\n",
    "*Note: Eve and Bob will have exactly the same information about the photons that are being transmitted by Alice.*\n",
    "\n",
    "For a given photon the probability that Eve’s and Bob’s measurement bases match up is $\\frac{1}{2}$. Out of the bases that match up there is another ½ probability that their bases will match that of Alice’s. Therefore, out of $n$ bits about $\\frac{n}{2}$ are thrown away because of basis mismatch, and about $\\frac{1}{2}$ * $\\frac{n}{2}$ are in error because of Eve. In fact, the probability of not detecting Eve falls exponentially as more bits are checked.\n",
    "\n"
   ]
  },
  {
   "cell_type": "markdown",
   "metadata": {
    "slideshow": {
     "slide_type": "slide"
    }
   },
   "source": [
    "## 8 Security of BB84\n",
    "\n",
    "Eve cannot distinguish between qubits in rectilinear basis and the diagonal basis. If she could she would measure them in the correct basis and retrieve the entire key. Mathematically this is because the density matrix of qubits in rectilinear basis is identical to those in diagonal basis.\n",
    "\n",
    "There is a theorem in quantum mechanics that states that two systems with identical density matrices are indistinguishable.\n",
    "\n",
    "We can compute the density matrices below:\n",
    "\n",
    "In rectilinear basis, Alice produces $\\rvert 0 \\rangle$ and $\\rvert 1 \\rangle$ with equal probability. Therefore the density operator is \n",
    "\n",
    "$\\rho_✚ = \\frac{1}{2} \\rvert 0 \\rangle \\langle 0 \\rvert + \\frac{1}{2} \\rvert 1 \\rangle \\langle 1 \\rvert$\n",
    "\n",
    "$= \\frac{1}{2} \\begin{bmatrix}1  \\\\  0\\end{bmatrix}\\begin{bmatrix}1&0 \\end{bmatrix} + \\frac{1}{2} \\begin{bmatrix}0  \\\\  1\\end{bmatrix}\\begin{bmatrix}0&1 \\end{bmatrix} $\n",
    "\n",
    "$= \\frac{1}{2} \\begin{bmatrix}1 & 0 \\\\  0 &  1\\end{bmatrix}$\n",
    "\n",
    "Similarity, Alice produces $\\rvert + \\rangle$ and $\\rvert - \\rangle$ with equal probability in the diagonal basis. Therefore, the density operator is,\n",
    "\n",
    "$\\rho_✖ = \\frac{1}{2} \\rvert + \\rangle \\langle + \\rvert + \\frac{1}{2} \\rvert - \\rangle \\langle - \\rvert $\n",
    "\n",
    "$= \\frac{1}{2} \\begin{bmatrix}\\frac{1}{\\sqrt{2}}  \\\\  \\frac{1}{\\sqrt{2}}\\end{bmatrix}\\begin{bmatrix}\\frac{1}{\\sqrt{2}}&\\frac{1}{\\sqrt{2}} \\end{bmatrix} + \\frac{1}{2} \\begin{bmatrix}\\frac{1}{\\sqrt{2}}  \\\\  -\\frac{1}{\\sqrt{2}}\\end{bmatrix}\\begin{bmatrix}\\frac{1}{\\sqrt{2}}&-\\frac{1}{\\sqrt{2}} \\end{bmatrix} $\n",
    "\n",
    "$= \\frac{1}{4} \\begin{bmatrix}1  \\\\  1\\end{bmatrix}\\begin{bmatrix}1&1 \\end{bmatrix} + \\frac{1}{4} \\begin{bmatrix}1  \\\\  -1\\end{bmatrix}\\begin{bmatrix}1&-1 \\end{bmatrix} $\n",
    "\n",
    "\n",
    "$= \\frac{1}{2} \\begin{bmatrix}1 & 0 \\\\  0 &  1\\end{bmatrix}$\n",
    "\n",
    "$= \\rho_✚  $\n"
   ]
  },
  {
   "cell_type": "markdown",
   "metadata": {
    "slideshow": {
     "slide_type": "slide"
    }
   },
   "source": [
    "***\n",
    "***\n",
    "## 9 BB84 Simulation Widget\n",
    "\n",
    "**Run the code below to instantiate an interactive BB84 widget in order to understand the protocol and execute it.**"
   ]
  },
  {
   "cell_type": "code",
   "execution_count": 6,
   "metadata": {
    "slideshow": {
     "slide_type": "slide"
    }
   },
   "outputs": [
    {
     "data": {
      "application/vnd.jupyter.widget-view+json": {
       "model_id": "ba32c4436771463cba688b354025bcd8",
       "version_major": 2,
       "version_minor": 0
      },
      "text/plain": [
       "Image(value=b'\\x89PNG\\r\\n\\x1a\\n\\x00\\x00\\x00\\rIHDR\\x00\\x00\\x13\\xec\\x00\\x00\\x07!\\x08\\x06\\x00\\x00\\x00(\\x16\\xdb:\\x…"
      ]
     },
     "metadata": {},
     "output_type": "display_data"
    },
    {
     "data": {
      "application/vnd.jupyter.widget-view+json": {
       "model_id": "5b42dabbd2df4737a0708041ece44220",
       "version_major": 2,
       "version_minor": 0
      },
      "text/plain": [
       "HBox(children=(VBox(children=(HBox(children=(HBox(children=(VBox(children=(HTML(value='<font size=\"+1\">Alice\\'…"
      ]
     },
     "metadata": {},
     "output_type": "display_data"
    },
    {
     "data": {
      "application/vnd.jupyter.widget-view+json": {
       "model_id": "c00bdee50bb84496aff7fbae2ed943e4",
       "version_major": 2,
       "version_minor": 0
      },
      "text/plain": [
       "HBox(children=(Label(value='', layout=Layout(width='19%')), Play(value=0, description='Press play', interval=1…"
      ]
     },
     "metadata": {},
     "output_type": "display_data"
    },
    {
     "data": {
      "application/vnd.jupyter.widget-view+json": {
       "model_id": "2bd3ee11d7e3484e8c7b0ab3ca983a98",
       "version_major": 2,
       "version_minor": 0
      },
      "text/plain": [
       "HBox(children=(Button(description='Restart', layout=Layout(height='50px', width='50%'), style=ButtonStyle(butt…"
      ]
     },
     "metadata": {},
     "output_type": "display_data"
    }
   ],
   "source": [
    "%run pyfiles/bb84  #This runs the file that has the code\n",
    "createTable()"
   ]
  },
  {
   "cell_type": "markdown",
   "metadata": {
    "slideshow": {
     "slide_type": "-"
    }
   },
   "source": [
    "***\n",
    "***"
   ]
  },
  {
   "cell_type": "markdown",
   "metadata": {
    "slideshow": {
     "slide_type": "slide"
    }
   },
   "source": [
    "## 10 Key Reconciliation and Privacy Amplification\n",
    "\n",
    "\n",
    "Key reconciliation (also called information reconciliation) is a form of error correction that Alice and Bob execute on the key bits that they have after finishing the eavesdropper detection phase. This error correction is needed because in practical cases all channels have certain error rates and therefore Alice and Bob have to tolerate some amount of errors (as natural errors) when comparing bits to look for Eve. Typically, this error correction is done through cascade error correction scheme proposed in 1994 and lately through turbo codes or polar codes. \n",
    "\n",
    "When correcting errors, the error correction protocol may leak some information about the actual key bits. This may be in addition to any information that Eve has already siphoned off during the key distribution phase. As a result Eve now has partial information about the key. In order to reduce the amount of information that Eve has about the key, the key is (after error correction) passed through a universal hash function. This reduces the size of the key to a smaller size but also reduces the correlation between the bits that Eve has and the final key that is output from the hash function. This step is called privacy amplification."
   ]
  },
  {
   "cell_type": "markdown",
   "metadata": {},
   "source": [
    "***\n",
    "***\n",
    "## <u>BB84 Simulator<u>\n",
    "\n",
    "The following cell provides widgets to set the values that control the main program.\n",
    "* The first widget sets how many qubits are to be transmitted.  \n",
    "* The second widget controls whether Eve will be active or not.\n",
    "* The third, fourth and fifth widgets set the bias of &#10010; to &#x2716; for Alice, Bob and Eve.\n",
    "\n",
    "These values are passed to the main program as parameters.\n",
    "\n"
   ]
  },
  {
   "cell_type": "code",
   "execution_count": 7,
   "metadata": {},
   "outputs": [
    {
     "data": {
      "application/vnd.jupyter.widget-view+json": {
       "model_id": "90b02f2dc6fe473f925e577f35f6c71b",
       "version_major": 2,
       "version_minor": 0
      },
      "text/plain": [
       "VBox(children=(Label(value='Enter number of initial qubits'), IntText(value=100)))"
      ]
     },
     "metadata": {},
     "output_type": "display_data"
    },
    {
     "data": {
      "application/vnd.jupyter.widget-view+json": {
       "model_id": "e5be4005b33a46da8b4480c40a03b1cd",
       "version_major": 2,
       "version_minor": 0
      },
      "text/plain": [
       "VBox(children=(Label(value='Eve is not active'), ToggleButton(value=False, button_style='success', description…"
      ]
     },
     "metadata": {},
     "output_type": "display_data"
    },
    {
     "data": {
      "application/vnd.jupyter.widget-view+json": {
       "model_id": "083528c4f87e4916b64d50f5451f0859",
       "version_major": 2,
       "version_minor": 0
      },
      "text/plain": [
       "VBox(children=(Label(value=\"Enter Alice's bias for diagnal basis over standard basis (0-100)\"), BoundedIntText…"
      ]
     },
     "metadata": {},
     "output_type": "display_data"
    },
    {
     "data": {
      "application/vnd.jupyter.widget-view+json": {
       "model_id": "c4fd4ad067244363bf4878c203fbb69d",
       "version_major": 2,
       "version_minor": 0
      },
      "text/plain": [
       "VBox(children=(Label(value=\"Enter Bob's bias for diagnal basis over standard basis (0-100)\"), BoundedIntText(v…"
      ]
     },
     "metadata": {},
     "output_type": "display_data"
    },
    {
     "data": {
      "application/vnd.jupyter.widget-view+json": {
       "model_id": "bd19fd0e9d00472cad0410c28f677f94",
       "version_major": 2,
       "version_minor": 0
      },
      "text/plain": [
       "VBox(children=(Label(value=\"Enter Eve's bias for diagnal basis over standard basis (0-100)\"), BoundedIntText(v…"
      ]
     },
     "metadata": {},
     "output_type": "display_data"
    }
   ],
   "source": [
    "# Code to generate GUI for entering program parameters\n",
    "import ipywidgets as widgets\n",
    "from IPython.display import display\n",
    "\n",
    "# Configuration of the widget that controls the number of qubits\n",
    "number_of_qubits = widgets.IntText(\n",
    "                    value=100,\n",
    "                    disabled=False\n",
    "                    )\n",
    "qubit_control = widgets.VBox([widgets.Label(value=\"Enter number of initial qubits\"), number_of_qubits])\n",
    "\n",
    "# Configuration of the widget that controls whether Eve is active or not\n",
    "is_Eve_active =  widgets.ToggleButton(\n",
    "                    value=False,\n",
    "                    description='Click to activate',\n",
    "                    disabled=False,\n",
    "                    button_style='success', # 'success', 'info', 'warning', 'danger' or ''\n",
    "                    tooltip='Will Eve intercept the transmission',\n",
    "                    icon=''\n",
    "                    )\n",
    "eve_message = widgets.Label(value=\"Eve is not active\")\n",
    "eve_control = widgets.VBox([eve_message, is_Eve_active])\n",
    "\n",
    "# Configuration of an event handler for the eve control widget\n",
    "def on_value_change(change):\n",
    "    is_Eve_active.description = 'Click to deactivate' if change['new'] else 'Click to activate'\n",
    "    eve_message.value = 'Eve is active' if change['new'] else 'Eve is not active'\n",
    "is_Eve_active.observe(on_value_change, names='value')\n",
    "\n",
    "# Configuration of the widget that controls Alice's bias towards the diagonal bases\n",
    "abias = widgets.BoundedIntText(\n",
    "                    value=50,\n",
    "                    min=0,\n",
    "                    max=100,\n",
    "                    step=1,\n",
    "                    disabled=False\n",
    "                    )\n",
    "abias_control = widgets.VBox([widgets.Label(value=\"Enter Alice's bias for diagnal basis over standard basis (0-100)\"), abias])\n",
    "\n",
    "# Configuration of the widget that controls Bob's bias towards the diagonal bases\n",
    "bbias = widgets.BoundedIntText(\n",
    "                    value=50,\n",
    "                    min=0,\n",
    "                    max=100,\n",
    "                    step=1,\n",
    "                    disabled=False\n",
    "                    )\n",
    "bbias_control = widgets.VBox([widgets.Label(value=\"Enter Bob's bias for diagnal basis over standard basis (0-100)\"), bbias])\n",
    "\n",
    "# Configuration of the widget that controls Eve's bias towards the diagonal bases\n",
    "ebias = widgets.BoundedIntText(\n",
    "                    value=50,\n",
    "                    min=0,\n",
    "                    max=100,\n",
    "                    step=1,\n",
    "                    disabled=False\n",
    "                    )\n",
    "ebias_control = widgets.VBox([widgets.Label(value=\"Enter Eve's bias for diagnal basis over standard basis (0-100)\"), ebias])\n",
    "\n",
    "# display the control widgets\n",
    "display(qubit_control, eve_control, abias_control, bbias_control, ebias_control)"
   ]
  },
  {
   "cell_type": "markdown",
   "metadata": {},
   "source": [
    "After setting the parameters you may either:\n",
    "* Run each of the following cells one at a time in order or \n",
    "* Select \"Run All Below\" in the \"Cell\" sub-menu from here\n",
    "\n",
    "The following cells define the classes, function and main program.  Output is provided after each cell."
   ]
  },
  {
   "cell_type": "code",
   "execution_count": 14,
   "metadata": {},
   "outputs": [],
   "source": [
    "class Messenger:\n",
    "    \"\"\"Inherited class with methods common to both BB84 and B92 protocols\"\"\"\n",
    "    from random import choice\n",
    "    from random import choices\n",
    "    \n",
    "    # There are no class variables defined, only instance variables.  \n",
    "    # Therefore no data is shared between instances without going through the main program\n",
    "    def __init__(self, number_of_qubits):\n",
    "        \"\"\"Initialize a new instance\"\"\"\n",
    "        self.key = []\n",
    "        self.bases = []\n",
    "        self.valid_bit = []\n",
    "        self.secret_bit = []\n",
    "        for i in range(number_of_qubits):\n",
    "            self.valid_bit.append(1) \n",
    "            self.secret_bit.append(1) \n",
    "    \n",
    "    def generate_bits(self, number_of_bits):\n",
    "        \"\"\"Populate the key instance variable with a given number of random bits and return what was populated\"\"\"\n",
    "        self.key = self.choices([0,1], k=number_of_bits)\n",
    "        return self.key\n",
    "        \n",
    "    def generate_bases(self, number_of_qubits, biasToX):\n",
    "        \"\"\"Populate the bases instance variable with a given number of random bits and return what was populated\"\"\"\n",
    "        self.bases = self.choices(['×','+'], cum_weights=[biasToX,100], k=number_of_qubits)\n",
    "        return self.bases\n",
    "\n",
    "    def scratch_bits(self, input):\n",
    "        \"\"\"Based on the markers given in the input parameter, clear the bits considered to be valid and secret\"\"\"\n",
    "        markers = ['W', '?', '✓']\n",
    "        for i, delete_indicator in enumerate(input):\n",
    "            if delete_indicator in markers:\n",
    "                self.valid_bit[i] = 0 \n",
    "                self.secret_bit[i] = 0 \n",
    "        return\n",
    "                \n",
    "    def choose_half(self, input):\n",
    "        \"\"\"Given which are valid choices in the input parameter, make a 50/50 choice which to mark from the valid choices\"\"\"\n",
    "        output = []\n",
    "        for i, bit in enumerate(input):\n",
    "            if bit == 'W' or bit == '?':\n",
    "                output.append('')\n",
    "            else:\n",
    "                if self.choice([0, 1]):\n",
    "                    output.append('') \n",
    "                else:\n",
    "                    output.append('✓')\n",
    "        return output\n",
    "\n",
    "    def check_bits(self, input_key, bits_to_check, valid_bit):\n",
    "        \"\"\"From a given list of bits to check, see if the inputted bit equals the corresponding instance key bit\"\"\"\n",
    "        output = []\n",
    "        for i, bit in enumerate(bits_to_check):\n",
    "            if bit == '✓':\n",
    "                self.secret_bit[i] = 0\n",
    "                if input_key[i] == self.key[i]:\n",
    "                    output.append('✓') \n",
    "                else:\n",
    "                    output.append('')\n",
    "            else:\n",
    "                # If a bit is a valid bit but just not on the chosen list, reset it so it can be reused for multiple runs\n",
    "                if valid_bit[i] != 'W' and valid_bit[i] != '?':\n",
    "                    self.secret_bit[i] = 1\n",
    "                output.append('')\n",
    "        return output\n",
    "    \n",
    "    def show_valid_key(self):\n",
    "        \"\"\"Return the key for this instance based on the bits marked as valid\"\"\"\n",
    "        output = []\n",
    "        for key_bit, check_bit in zip(self.key, self.valid_bit):\n",
    "            output.append(key_bit) if check_bit == 1 else output.append('')\n",
    "        return output\n",
    "\n",
    "    def show_secret_key(self):\n",
    "        \"\"\"Return the key for this instance based on the bits marked as secret\"\"\"\n",
    "        output = []\n",
    "        for key_bit, check_bit in zip(self.key, self.secret_bit):\n",
    "            output.append(key_bit) if check_bit == 1 else output.append('')\n",
    "        return output\n",
    "    \n",
    "class BB84Messenger(Messenger):\n",
    "    \"\"\"methods for BB84 messaging\"\"\"\n",
    "\n",
    "    def encode_qubit(self, state, basis):\n",
    "        \"\"\"Return the qubit encoding based on the BB84 protocol\"\"\"\n",
    "        vocabulary = [{'+':'→', '×':'↗'}, {'+':'↑', '×':'↖'}]\n",
    "        return vocabulary[state][basis]\n",
    "        \n",
    "    def transmit_key(self):\n",
    "        \"\"\"Loop through all bits, returning the encoded BB84 qubits\"\"\"\n",
    "        return ''.join([self.encode_qubit(key, basis) for key, basis in zip(self.key, self.bases)])\n",
    "    \n",
    "    def compare_bases(self, input):\n",
    "        \"\"\"Compare the inputted bases with the instance bases and return a 'C' if they match or 'W' if they do not\"\"\"\n",
    "        output = []\n",
    "        for my_basis, other_basis in zip(self.bases, input):\n",
    "            output.append('C') if my_basis == other_basis else output.append('W')\n",
    "        return output\n",
    "\n",
    "    def receive_key(self, input):\n",
    "        \"\"\"Process an inputted string to extract the key bits and return what qubits were observed\"\"\"\n",
    "        qubits = list(input)\n",
    "        del self.key[:]\n",
    "        observed = []\n",
    "        for qubit, basis in zip(qubits, self.bases):\n",
    "            if basis == '+' and qubit == '→':\n",
    "                self.key.append(0)\n",
    "                observed.append('→')\n",
    "            elif basis == '×' and qubit == '↗':\n",
    "                self.key.append(0)\n",
    "                observed.append('↗')\n",
    "            elif basis == '+' and qubit == '↑':\n",
    "                self.key.append(1)\n",
    "                observed.append('↑')\n",
    "            elif basis == '×' and qubit == '↖':\n",
    "                self.key.append(1)\n",
    "                observed.append('↖')\n",
    "            else:\n",
    "                self.key.append(self.choice([0, 1]))\n",
    "                observed.append(self.encode_qubit(self.key[len(self.key)-1], basis))\n",
    "        return observed\n",
    "    \n",
    "\n",
    "def printTable(caption, rows):\n",
    "    \"\"\"Make a nice looking table like in the book\"\"\"\n",
    "    from IPython.display import HTML, display\n",
    "    display(HTML(\n",
    "    '<table style=\"border-bottom: 4px double #333;border-top: 4px double #333;padding: 10px 0;\">' +\n",
    "    '<caption style=\"font-weight:900; color:black; border-top: 4px double #333;\">' + caption + '</caption>' +\n",
    "    '<tr>{}</tr></table>'.format('</tr><tr>'.join(\n",
    "        '<td>' + row[0] + '</td><td>{}</td>'.format('</td><td>'.join(row[1])) for row in rows))))"
   ]
  },
  {
   "cell_type": "markdown",
   "metadata": {},
   "source": [
    "### Main program"
   ]
  },
  {
   "cell_type": "code",
   "execution_count": 15,
   "metadata": {},
   "outputs": [
    {
     "name": "stdout",
     "output_type": "stream",
     "text": [
      "Program parameters have been entered into the program as follows:\n",
      "  * Alice will start with 100 qubits to generate a key to send to Bob.\n",
      "  * Eve will intercept the transmission.\n",
      "  * Alice has a 50/50 chance of choosing diagonal basis over standard basis\n",
      "  * Bob has a 50/50 chance of choosing diagonal basis over standard basis\n",
      "  * Eve has a 50/50 chance of choosing diagonal basis over standard basis\n"
     ]
    }
   ],
   "source": [
    "# parameters passed into main program from GUI\n",
    "n = number_of_qubits.value\n",
    "eve_present = is_Eve_active.value\n",
    "aliceXbias = abias.value\n",
    "bobXbias = bbias.value\n",
    "eveXbias = ebias.value\n",
    "\n",
    "# instantiate a messenger class for each persona \n",
    "alice84 = BB84Messenger(n)\n",
    "bob84 = BB84Messenger(n)\n",
    "eve84 = BB84Messenger(n)\n",
    "\n",
    "# Let's see what we are working with\n",
    "print(\"Program parameters have been entered into the program as follows:\")\n",
    "print(\"  * Alice will start with {} qubits to generate a key to send to Bob.\".format(n))\n",
    "print(\"  * Eve will {}intercept the transmission.\".format('' if eve_present else 'not '))\n",
    "print(\"  * Alice has a {}/{} chance of choosing diagonal basis over standard basis\".format(aliceXbias, 100 - aliceXbias))\n",
    "print(\"  * Bob has a {}/{} chance of choosing diagonal basis over standard basis\".format(bobXbias, 100 - bobXbias))\n",
    "print(\"  * Eve has a {}/{} chance of choosing diagonal basis over standard basis\".format(eveXbias, 100 - eveXbias))"
   ]
  },
  {
   "cell_type": "markdown",
   "metadata": {},
   "source": [
    "### Step 1 of the BB84 protocol - Alice sends a candidate key\n",
    "\n",
    "* Alice flips a coin *n* times to determine which classical bits to send.  \n",
    "* She then flips the coin another *n* times to determine in which of the two bases to send those bits.  \n",
    "* She then sends the bits in their appropriate basis."
   ]
  },
  {
   "cell_type": "code",
   "execution_count": 16,
   "metadata": {},
   "outputs": [
    {
     "data": {
      "text/html": [
       "<table style=\"border-bottom: 4px double #333;border-top: 4px double #333;padding: 10px 0;\"><caption style=\"font-weight:900; color:black; border-top: 4px double #333;\">Step 1: Alice sends 100 random bits in random bases</caption><tr><td>Bit&nbsp;number</td><td>1</td><td>2</td><td>3</td><td>4</td><td>5</td><td>6</td><td>7</td><td>8</td><td>9</td><td>10</td><td>11</td><td>12</td><td>13</td><td>14</td><td>15</td><td>16</td><td>17</td><td>18</td><td>19</td><td>20</td><td>21</td><td>22</td><td>23</td><td>24</td><td>25</td><td>26</td><td>27</td><td>28</td><td>29</td><td>30</td><td>31</td><td>32</td><td>33</td><td>34</td><td>35</td><td>36</td><td>37</td><td>38</td><td>39</td><td>40</td><td>41</td><td>42</td><td>43</td><td>44</td><td>45</td><td>46</td><td>47</td><td>48</td><td>49</td><td>50</td><td>51</td><td>52</td><td>53</td><td>54</td><td>55</td><td>56</td><td>57</td><td>58</td><td>59</td><td>60</td><td>61</td><td>62</td><td>63</td><td>64</td><td>65</td><td>66</td><td>67</td><td>68</td><td>69</td><td>70</td><td>71</td><td>72</td><td>73</td><td>74</td><td>75</td><td>76</td><td>77</td><td>78</td><td>79</td><td>80</td><td>81</td><td>82</td><td>83</td><td>84</td><td>85</td><td>86</td><td>87</td><td>88</td><td>89</td><td>90</td><td>91</td><td>92</td><td>93</td><td>94</td><td>95</td><td>96</td><td>97</td><td>98</td><td>99</td><td>100</td></tr><tr><td>Alice's&nbsp;random&nbsp;bits</td><td>0</td><td>0</td><td>0</td><td>0</td><td>0</td><td>1</td><td>1</td><td>1</td><td>1</td><td>0</td><td>1</td><td>0</td><td>1</td><td>0</td><td>0</td><td>1</td><td>1</td><td>1</td><td>1</td><td>0</td><td>0</td><td>0</td><td>0</td><td>1</td><td>1</td><td>0</td><td>0</td><td>0</td><td>0</td><td>0</td><td>1</td><td>1</td><td>0</td><td>1</td><td>0</td><td>1</td><td>1</td><td>1</td><td>1</td><td>0</td><td>1</td><td>0</td><td>0</td><td>1</td><td>1</td><td>1</td><td>1</td><td>0</td><td>0</td><td>0</td><td>1</td><td>1</td><td>0</td><td>1</td><td>1</td><td>1</td><td>1</td><td>1</td><td>0</td><td>0</td><td>0</td><td>0</td><td>0</td><td>0</td><td>0</td><td>0</td><td>0</td><td>1</td><td>0</td><td>1</td><td>1</td><td>0</td><td>0</td><td>0</td><td>0</td><td>1</td><td>0</td><td>1</td><td>0</td><td>0</td><td>0</td><td>0</td><td>1</td><td>1</td><td>0</td><td>0</td><td>0</td><td>1</td><td>0</td><td>1</td><td>0</td><td>0</td><td>0</td><td>1</td><td>1</td><td>0</td><td>1</td><td>1</td><td>0</td><td>0</td></tr><tr><td>Alice's&nbsp;random&nbsp;bases</td><td>×</td><td>+</td><td>+</td><td>+</td><td>×</td><td>+</td><td>×</td><td>×</td><td>+</td><td>×</td><td>×</td><td>×</td><td>+</td><td>+</td><td>×</td><td>+</td><td>×</td><td>+</td><td>×</td><td>+</td><td>×</td><td>+</td><td>+</td><td>+</td><td>×</td><td>×</td><td>×</td><td>×</td><td>+</td><td>×</td><td>×</td><td>×</td><td>+</td><td>+</td><td>×</td><td>+</td><td>×</td><td>+</td><td>+</td><td>×</td><td>×</td><td>+</td><td>+</td><td>×</td><td>+</td><td>+</td><td>+</td><td>+</td><td>+</td><td>+</td><td>+</td><td>×</td><td>+</td><td>+</td><td>×</td><td>+</td><td>+</td><td>×</td><td>+</td><td>×</td><td>+</td><td>×</td><td>×</td><td>×</td><td>+</td><td>×</td><td>+</td><td>×</td><td>×</td><td>+</td><td>+</td><td>+</td><td>×</td><td>+</td><td>+</td><td>×</td><td>×</td><td>+</td><td>+</td><td>+</td><td>×</td><td>×</td><td>×</td><td>×</td><td>×</td><td>+</td><td>+</td><td>+</td><td>×</td><td>+</td><td>+</td><td>+</td><td>×</td><td>×</td><td>+</td><td>+</td><td>+</td><td>+</td><td>+</td><td>×</td></tr><tr><td>Alice&nbsp;sends</td><td>↗</td><td>→</td><td>→</td><td>→</td><td>↗</td><td>↑</td><td>↖</td><td>↖</td><td>↑</td><td>↗</td><td>↖</td><td>↗</td><td>↑</td><td>→</td><td>↗</td><td>↑</td><td>↖</td><td>↑</td><td>↖</td><td>→</td><td>↗</td><td>→</td><td>→</td><td>↑</td><td>↖</td><td>↗</td><td>↗</td><td>↗</td><td>→</td><td>↗</td><td>↖</td><td>↖</td><td>→</td><td>↑</td><td>↗</td><td>↑</td><td>↖</td><td>↑</td><td>↑</td><td>↗</td><td>↖</td><td>→</td><td>→</td><td>↖</td><td>↑</td><td>↑</td><td>↑</td><td>→</td><td>→</td><td>→</td><td>↑</td><td>↖</td><td>→</td><td>↑</td><td>↖</td><td>↑</td><td>↑</td><td>↖</td><td>→</td><td>↗</td><td>→</td><td>↗</td><td>↗</td><td>↗</td><td>→</td><td>↗</td><td>→</td><td>↖</td><td>↗</td><td>↑</td><td>↑</td><td>→</td><td>↗</td><td>→</td><td>→</td><td>↖</td><td>↗</td><td>↑</td><td>→</td><td>→</td><td>↗</td><td>↗</td><td>↖</td><td>↖</td><td>↗</td><td>→</td><td>→</td><td>↑</td><td>↗</td><td>↑</td><td>→</td><td>→</td><td>↗</td><td>↖</td><td>↑</td><td>→</td><td>↑</td><td>↑</td><td>→</td><td>↗</td></tr></table>"
      ],
      "text/plain": [
       "<IPython.core.display.HTML object>"
      ]
     },
     "metadata": {},
     "output_type": "display_data"
    }
   ],
   "source": [
    "# Alice randomly generates n bits.  These are private to Alice but pulled out here so they can be printed to show what was done\n",
    "alice84bits = alice84.generate_bits(n)\n",
    "\n",
    "# Alice randomly generates n bases biased towards X as defined by aliceXvalue choices out of 100\n",
    "alice84bases = alice84.generate_bases(n, aliceXbias)\n",
    "\n",
    "# Alice takes the bits she generated, encodes them into qubits using her generated bases, and puts them on the transmission line\n",
    "transmission = alice84.transmit_key()\n",
    "\n",
    "# Show all the work done by Alice in a nice convienient table\n",
    "printTable(caption=\"Step 1: Alice sends \" + str(n) + \" random bits in random bases\",\n",
    "           rows = [[\"Bit&nbsp;number\", map(str, range(1, n+1))],\n",
    "                   [\"Alice's&nbsp;random&nbsp;bits\", map(str, alice84bits)],\n",
    "                   [\"Alice's&nbsp;random&nbsp;bases\", alice84bases],\n",
    "                   [\"Alice&nbsp;sends\", transmission]]\n",
    "          )"
   ]
  },
  {
   "cell_type": "markdown",
   "metadata": {},
   "source": [
    "### Step 2 of the BB84 protocol - Bob receives a candidate key\n",
    "\n",
    "* Since Bob doesn't know the bases used by Alice, he flips a coin *n* times to determine the basis by which to measure.\n",
    "* If Eve is present, then the transmission from Alice is intercepted then retransmitted to Bob\n",
    "* Bob uses these random bases to measure the qubits sent from Alice"
   ]
  },
  {
   "cell_type": "code",
   "execution_count": 17,
   "metadata": {},
   "outputs": [
    {
     "data": {
      "text/html": [
       "<table style=\"border-bottom: 4px double #333;border-top: 4px double #333;padding: 10px 0;\"><caption style=\"font-weight:900; color:black; border-top: 4px double #333;\">Step 2: Bob receives 100 random bits in random measurements</caption><tr><td>Bit&nbsp;number</td><td>1</td><td>2</td><td>3</td><td>4</td><td>5</td><td>6</td><td>7</td><td>8</td><td>9</td><td>10</td><td>11</td><td>12</td><td>13</td><td>14</td><td>15</td><td>16</td><td>17</td><td>18</td><td>19</td><td>20</td><td>21</td><td>22</td><td>23</td><td>24</td><td>25</td><td>26</td><td>27</td><td>28</td><td>29</td><td>30</td><td>31</td><td>32</td><td>33</td><td>34</td><td>35</td><td>36</td><td>37</td><td>38</td><td>39</td><td>40</td><td>41</td><td>42</td><td>43</td><td>44</td><td>45</td><td>46</td><td>47</td><td>48</td><td>49</td><td>50</td><td>51</td><td>52</td><td>53</td><td>54</td><td>55</td><td>56</td><td>57</td><td>58</td><td>59</td><td>60</td><td>61</td><td>62</td><td>63</td><td>64</td><td>65</td><td>66</td><td>67</td><td>68</td><td>69</td><td>70</td><td>71</td><td>72</td><td>73</td><td>74</td><td>75</td><td>76</td><td>77</td><td>78</td><td>79</td><td>80</td><td>81</td><td>82</td><td>83</td><td>84</td><td>85</td><td>86</td><td>87</td><td>88</td><td>89</td><td>90</td><td>91</td><td>92</td><td>93</td><td>94</td><td>95</td><td>96</td><td>97</td><td>98</td><td>99</td><td>100</td></tr><tr><td>Eve's&nbsp;random&nbsp;bases</td><td>+</td><td>×</td><td>×</td><td>×</td><td>×</td><td>+</td><td>×</td><td>×</td><td>+</td><td>+</td><td>×</td><td>+</td><td>+</td><td>+</td><td>×</td><td>×</td><td>+</td><td>+</td><td>+</td><td>+</td><td>×</td><td>+</td><td>×</td><td>×</td><td>×</td><td>×</td><td>+</td><td>×</td><td>×</td><td>+</td><td>×</td><td>×</td><td>+</td><td>+</td><td>+</td><td>×</td><td>×</td><td>+</td><td>×</td><td>+</td><td>×</td><td>+</td><td>+</td><td>+</td><td>×</td><td>+</td><td>+</td><td>+</td><td>+</td><td>×</td><td>+</td><td>+</td><td>×</td><td>×</td><td>×</td><td>+</td><td>×</td><td>×</td><td>+</td><td>×</td><td>×</td><td>×</td><td>+</td><td>×</td><td>+</td><td>×</td><td>×</td><td>×</td><td>×</td><td>×</td><td>×</td><td>×</td><td>+</td><td>+</td><td>×</td><td>+</td><td>+</td><td>×</td><td>×</td><td>×</td><td>×</td><td>+</td><td>×</td><td>×</td><td>×</td><td>+</td><td>+</td><td>+</td><td>×</td><td>+</td><td>×</td><td>×</td><td>×</td><td>×</td><td>+</td><td>+</td><td>×</td><td>×</td><td>×</td><td>×</td></tr><tr><td>Eve&nbsp;observes</td><td>↑</td><td>↗</td><td>↗</td><td>↖</td><td>↗</td><td>↑</td><td>↖</td><td>↖</td><td>↑</td><td>↑</td><td>↖</td><td>→</td><td>↑</td><td>→</td><td>↗</td><td>↗</td><td>↑</td><td>↑</td><td>↑</td><td>→</td><td>↗</td><td>→</td><td>↗</td><td>↗</td><td>↖</td><td>↗</td><td>→</td><td>↗</td><td>↗</td><td>↑</td><td>↖</td><td>↖</td><td>→</td><td>↑</td><td>→</td><td>↗</td><td>↖</td><td>↑</td><td>↖</td><td>↑</td><td>↖</td><td>→</td><td>→</td><td>↑</td><td>↖</td><td>↑</td><td>↑</td><td>→</td><td>→</td><td>↗</td><td>↑</td><td>↑</td><td>↖</td><td>↖</td><td>↖</td><td>↑</td><td>↖</td><td>↖</td><td>→</td><td>↗</td><td>↖</td><td>↗</td><td>↑</td><td>↗</td><td>→</td><td>↗</td><td>↗</td><td>↖</td><td>↗</td><td>↖</td><td>↖</td><td>↗</td><td>→</td><td>→</td><td>↗</td><td>↑</td><td>→</td><td>↖</td><td>↗</td><td>↖</td><td>↗</td><td>→</td><td>↖</td><td>↖</td><td>↗</td><td>→</td><td>→</td><td>↑</td><td>↗</td><td>↑</td><td>↗</td><td>↖</td><td>↗</td><td>↖</td><td>↑</td><td>→</td><td>↖</td><td>↖</td><td>↗</td><td>↗</td></tr><tr><td>Eve's&nbsp;bits</td><td>1</td><td>0</td><td>0</td><td>1</td><td>0</td><td>1</td><td>1</td><td>1</td><td>1</td><td>1</td><td>1</td><td>0</td><td>1</td><td>0</td><td>0</td><td>0</td><td>1</td><td>1</td><td>1</td><td>0</td><td>0</td><td>0</td><td>0</td><td>0</td><td>1</td><td>0</td><td>0</td><td>0</td><td>0</td><td>1</td><td>1</td><td>1</td><td>0</td><td>1</td><td>0</td><td>0</td><td>1</td><td>1</td><td>1</td><td>1</td><td>1</td><td>0</td><td>0</td><td>1</td><td>1</td><td>1</td><td>1</td><td>0</td><td>0</td><td>0</td><td>1</td><td>1</td><td>1</td><td>1</td><td>1</td><td>1</td><td>1</td><td>1</td><td>0</td><td>0</td><td>1</td><td>0</td><td>1</td><td>0</td><td>0</td><td>0</td><td>0</td><td>1</td><td>0</td><td>1</td><td>1</td><td>0</td><td>0</td><td>0</td><td>0</td><td>1</td><td>0</td><td>1</td><td>0</td><td>1</td><td>0</td><td>0</td><td>1</td><td>1</td><td>0</td><td>0</td><td>0</td><td>1</td><td>0</td><td>1</td><td>0</td><td>1</td><td>0</td><td>1</td><td>1</td><td>0</td><td>1</td><td>1</td><td>0</td><td>0</td></tr><tr><td>Bob's&nbsp;random&nbsp;bases</td><td>×</td><td>×</td><td>+</td><td>+</td><td>+</td><td>+</td><td>×</td><td>+</td><td>×</td><td>+</td><td>×</td><td>+</td><td>×</td><td>×</td><td>+</td><td>×</td><td>×</td><td>×</td><td>×</td><td>+</td><td>+</td><td>×</td><td>+</td><td>×</td><td>+</td><td>×</td><td>×</td><td>×</td><td>×</td><td>+</td><td>+</td><td>+</td><td>+</td><td>+</td><td>×</td><td>×</td><td>×</td><td>×</td><td>+</td><td>×</td><td>×</td><td>+</td><td>×</td><td>×</td><td>+</td><td>×</td><td>×</td><td>×</td><td>×</td><td>+</td><td>×</td><td>+</td><td>+</td><td>×</td><td>×</td><td>+</td><td>+</td><td>×</td><td>+</td><td>+</td><td>+</td><td>+</td><td>+</td><td>×</td><td>×</td><td>+</td><td>×</td><td>×</td><td>+</td><td>×</td><td>+</td><td>+</td><td>+</td><td>+</td><td>×</td><td>+</td><td>×</td><td>+</td><td>×</td><td>×</td><td>×</td><td>×</td><td>+</td><td>×</td><td>×</td><td>+</td><td>+</td><td>×</td><td>×</td><td>+</td><td>×</td><td>+</td><td>+</td><td>×</td><td>×</td><td>+</td><td>+</td><td>×</td><td>+</td><td>+</td></tr><tr><td>Bob&nbsp;observes</td><td>↗</td><td>↗</td><td>↑</td><td>→</td><td>→</td><td>↑</td><td>↖</td><td>↑</td><td>↗</td><td>↑</td><td>↖</td><td>→</td><td>↗</td><td>↖</td><td>→</td><td>↗</td><td>↗</td><td>↖</td><td>↖</td><td>→</td><td>→</td><td>↗</td><td>↑</td><td>↗</td><td>→</td><td>↗</td><td>↖</td><td>↗</td><td>↗</td><td>↑</td><td>→</td><td>→</td><td>→</td><td>↑</td><td>↖</td><td>↗</td><td>↖</td><td>↖</td><td>↑</td><td>↖</td><td>↖</td><td>→</td><td>↗</td><td>↗</td><td>↑</td><td>↖</td><td>↗</td><td>↗</td><td>↗</td><td>↑</td><td>↗</td><td>↑</td><td>→</td><td>↖</td><td>↖</td><td>↑</td><td>↑</td><td>↖</td><td>→</td><td>→</td><td>↑</td><td>→</td><td>↑</td><td>↗</td><td>↗</td><td>↑</td><td>↗</td><td>↖</td><td>↑</td><td>↖</td><td>↑</td><td>→</td><td>→</td><td>→</td><td>↗</td><td>↑</td><td>↖</td><td>↑</td><td>↗</td><td>↖</td><td>↗</td><td>↗</td><td>→</td><td>↖</td><td>↗</td><td>→</td><td>→</td><td>↖</td><td>↗</td><td>↑</td><td>↗</td><td>→</td><td>→</td><td>↖</td><td>↖</td><td>→</td><td>→</td><td>↖</td><td>↑</td><td>↑</td></tr><tr><td>Bob's&nbsp;bits</td><td>0</td><td>0</td><td>1</td><td>0</td><td>0</td><td>1</td><td>1</td><td>1</td><td>0</td><td>1</td><td>1</td><td>0</td><td>0</td><td>1</td><td>0</td><td>0</td><td>0</td><td>1</td><td>1</td><td>0</td><td>0</td><td>0</td><td>1</td><td>0</td><td>0</td><td>0</td><td>1</td><td>0</td><td>0</td><td>1</td><td>0</td><td>0</td><td>0</td><td>1</td><td>1</td><td>0</td><td>1</td><td>1</td><td>1</td><td>1</td><td>1</td><td>0</td><td>0</td><td>0</td><td>1</td><td>1</td><td>0</td><td>0</td><td>0</td><td>1</td><td>0</td><td>1</td><td>0</td><td>1</td><td>1</td><td>1</td><td>1</td><td>1</td><td>0</td><td>0</td><td>1</td><td>0</td><td>1</td><td>0</td><td>0</td><td>1</td><td>0</td><td>1</td><td>1</td><td>1</td><td>1</td><td>0</td><td>0</td><td>0</td><td>0</td><td>1</td><td>1</td><td>1</td><td>0</td><td>1</td><td>0</td><td>0</td><td>0</td><td>1</td><td>0</td><td>0</td><td>0</td><td>1</td><td>0</td><td>1</td><td>0</td><td>0</td><td>0</td><td>1</td><td>1</td><td>0</td><td>0</td><td>1</td><td>1</td><td>1</td></tr></table>"
      ],
      "text/plain": [
       "<IPython.core.display.HTML object>"
      ]
     },
     "metadata": {},
     "output_type": "display_data"
    }
   ],
   "source": [
    "# Bob randomly generates his n bases with a bias towards X defined by bobXbias\n",
    "bob84bases = bob84.generate_bases(n, bobXbias)\n",
    "\n",
    "# If eve is present, then the interception occurs\n",
    "if eve_present:\n",
    "\n",
    "    # Eve generates her bases with her given bias.\n",
    "    eve84bases = eve84.generate_bases(n, eveXbias)\n",
    "    \n",
    "    # Eve intercepts the tranmission and reads it\n",
    "    eve84received = eve84.receive_key(transmission)\n",
    "    \n",
    "    # She then replaces it with her own encoding from her set of randomly chosen bases\n",
    "    transmission = eve84.transmit_key()\n",
    "\n",
    "# Bob receives the transmission but it could have come from Alice or Eve    \n",
    "bob84received = bob84.receive_key(transmission)\n",
    "if eve_present:\n",
    "    # Show everything from Bob's point of view\n",
    "    printTable(caption=\"Step 2: Bob receives \" + str(n) + \" random bits in random measurements\",\n",
    "               rows = [[\"Bit&nbsp;number\", map(str, range(1, n+1))],\n",
    "                       [\"Eve's&nbsp;random&nbsp;bases\", eve84bases],\n",
    "                       [\"Eve&nbsp;observes\", eve84received],\n",
    "                       [\"Eve's&nbsp;bits\", map(str, eve84.key)],\n",
    "                       [\"Bob's&nbsp;random&nbsp;bases\", bob84bases],\n",
    "                       [\"Bob&nbsp;observes\", bob84received],\n",
    "                       [\"Bob's&nbsp;bits\", map(str, bob84.key)]])\n",
    "else:\n",
    "    # Show everything from Bob's point of view\n",
    "    printTable(caption=\"Step 2: Bob receives \" + str(n) + \" random bits in random measurements\",\n",
    "               rows = [[\"Bit&nbsp;number\", map(str, range(1, n+1))],\n",
    "                       [\"Bob's&nbsp;random&nbsp;bases\", bob84bases],\n",
    "                       [\"Bob&nbsp;observes\", bob84received],\n",
    "                       [\"Bob's&nbsp;bits\", map(str, bob84.key)]])"
   ]
  },
  {
   "cell_type": "markdown",
   "metadata": {},
   "source": [
    "### Step 3 of BB84 protocol - Alice and Bob evaluate the candidate key \n",
    "\n",
    "* Bob tells Alice the bases that he chose\n",
    "* Alice replies by telling Bob which basis is correct and which ones are wrong\n",
    "* Alice and Bob scratch out the bits that had the wrong basis\n",
    "* On average the length of the remaining subsequence should be about $\\frac{n}{2}$ bits"
   ]
  },
  {
   "cell_type": "code",
   "execution_count": 18,
   "metadata": {},
   "outputs": [
    {
     "data": {
      "text/html": [
       "<table style=\"border-bottom: 4px double #333;border-top: 4px double #333;padding: 10px 0;\"><caption style=\"font-weight:900; color:black; border-top: 4px double #333;\">Step 3: Alice and Bob publicly compare bases used</caption><tr><td>Bit&nbsp;number</td><td>1</td><td>2</td><td>3</td><td>4</td><td>5</td><td>6</td><td>7</td><td>8</td><td>9</td><td>10</td><td>11</td><td>12</td><td>13</td><td>14</td><td>15</td><td>16</td><td>17</td><td>18</td><td>19</td><td>20</td><td>21</td><td>22</td><td>23</td><td>24</td><td>25</td><td>26</td><td>27</td><td>28</td><td>29</td><td>30</td><td>31</td><td>32</td><td>33</td><td>34</td><td>35</td><td>36</td><td>37</td><td>38</td><td>39</td><td>40</td><td>41</td><td>42</td><td>43</td><td>44</td><td>45</td><td>46</td><td>47</td><td>48</td><td>49</td><td>50</td><td>51</td><td>52</td><td>53</td><td>54</td><td>55</td><td>56</td><td>57</td><td>58</td><td>59</td><td>60</td><td>61</td><td>62</td><td>63</td><td>64</td><td>65</td><td>66</td><td>67</td><td>68</td><td>69</td><td>70</td><td>71</td><td>72</td><td>73</td><td>74</td><td>75</td><td>76</td><td>77</td><td>78</td><td>79</td><td>80</td><td>81</td><td>82</td><td>83</td><td>84</td><td>85</td><td>86</td><td>87</td><td>88</td><td>89</td><td>90</td><td>91</td><td>92</td><td>93</td><td>94</td><td>95</td><td>96</td><td>97</td><td>98</td><td>99</td><td>100</td></tr><tr><td>Alice's&nbsp;random&nbsp;bases</td><td>×</td><td>+</td><td>+</td><td>+</td><td>×</td><td>+</td><td>×</td><td>×</td><td>+</td><td>×</td><td>×</td><td>×</td><td>+</td><td>+</td><td>×</td><td>+</td><td>×</td><td>+</td><td>×</td><td>+</td><td>×</td><td>+</td><td>+</td><td>+</td><td>×</td><td>×</td><td>×</td><td>×</td><td>+</td><td>×</td><td>×</td><td>×</td><td>+</td><td>+</td><td>×</td><td>+</td><td>×</td><td>+</td><td>+</td><td>×</td><td>×</td><td>+</td><td>+</td><td>×</td><td>+</td><td>+</td><td>+</td><td>+</td><td>+</td><td>+</td><td>+</td><td>×</td><td>+</td><td>+</td><td>×</td><td>+</td><td>+</td><td>×</td><td>+</td><td>×</td><td>+</td><td>×</td><td>×</td><td>×</td><td>+</td><td>×</td><td>+</td><td>×</td><td>×</td><td>+</td><td>+</td><td>+</td><td>×</td><td>+</td><td>+</td><td>×</td><td>×</td><td>+</td><td>+</td><td>+</td><td>×</td><td>×</td><td>×</td><td>×</td><td>×</td><td>+</td><td>+</td><td>+</td><td>×</td><td>+</td><td>+</td><td>+</td><td>×</td><td>×</td><td>+</td><td>+</td><td>+</td><td>+</td><td>+</td><td>×</td></tr><tr><td>Eve's&nbsp;random&nbsp;bases</td><td>+</td><td>×</td><td>×</td><td>×</td><td>×</td><td>+</td><td>×</td><td>×</td><td>+</td><td>+</td><td>×</td><td>+</td><td>+</td><td>+</td><td>×</td><td>×</td><td>+</td><td>+</td><td>+</td><td>+</td><td>×</td><td>+</td><td>×</td><td>×</td><td>×</td><td>×</td><td>+</td><td>×</td><td>×</td><td>+</td><td>×</td><td>×</td><td>+</td><td>+</td><td>+</td><td>×</td><td>×</td><td>+</td><td>×</td><td>+</td><td>×</td><td>+</td><td>+</td><td>+</td><td>×</td><td>+</td><td>+</td><td>+</td><td>+</td><td>×</td><td>+</td><td>+</td><td>×</td><td>×</td><td>×</td><td>+</td><td>×</td><td>×</td><td>+</td><td>×</td><td>×</td><td>×</td><td>+</td><td>×</td><td>+</td><td>×</td><td>×</td><td>×</td><td>×</td><td>×</td><td>×</td><td>×</td><td>+</td><td>+</td><td>×</td><td>+</td><td>+</td><td>×</td><td>×</td><td>×</td><td>×</td><td>+</td><td>×</td><td>×</td><td>×</td><td>+</td><td>+</td><td>+</td><td>×</td><td>+</td><td>×</td><td>×</td><td>×</td><td>×</td><td>+</td><td>+</td><td>×</td><td>×</td><td>×</td><td>×</td></tr><tr><td>Bob's&nbsp;random&nbsp;bases</td><td>×</td><td>×</td><td>+</td><td>+</td><td>+</td><td>+</td><td>×</td><td>+</td><td>×</td><td>+</td><td>×</td><td>+</td><td>×</td><td>×</td><td>+</td><td>×</td><td>×</td><td>×</td><td>×</td><td>+</td><td>+</td><td>×</td><td>+</td><td>×</td><td>+</td><td>×</td><td>×</td><td>×</td><td>×</td><td>+</td><td>+</td><td>+</td><td>+</td><td>+</td><td>×</td><td>×</td><td>×</td><td>×</td><td>+</td><td>×</td><td>×</td><td>+</td><td>×</td><td>×</td><td>+</td><td>×</td><td>×</td><td>×</td><td>×</td><td>+</td><td>×</td><td>+</td><td>+</td><td>×</td><td>×</td><td>+</td><td>+</td><td>×</td><td>+</td><td>+</td><td>+</td><td>+</td><td>+</td><td>×</td><td>×</td><td>+</td><td>×</td><td>×</td><td>+</td><td>×</td><td>+</td><td>+</td><td>+</td><td>+</td><td>×</td><td>+</td><td>×</td><td>+</td><td>×</td><td>×</td><td>×</td><td>×</td><td>+</td><td>×</td><td>×</td><td>+</td><td>+</td><td>×</td><td>×</td><td>+</td><td>×</td><td>+</td><td>+</td><td>×</td><td>×</td><td>+</td><td>+</td><td>×</td><td>+</td><td>+</td></tr><tr><td>Which&nbsp;agree?</td><td>C</td><td>W</td><td>C</td><td>C</td><td>W</td><td>C</td><td>C</td><td>W</td><td>W</td><td>W</td><td>C</td><td>W</td><td>W</td><td>W</td><td>W</td><td>W</td><td>C</td><td>W</td><td>C</td><td>C</td><td>W</td><td>W</td><td>C</td><td>W</td><td>W</td><td>C</td><td>C</td><td>C</td><td>W</td><td>W</td><td>W</td><td>W</td><td>C</td><td>C</td><td>C</td><td>W</td><td>C</td><td>W</td><td>C</td><td>C</td><td>C</td><td>C</td><td>W</td><td>C</td><td>C</td><td>W</td><td>W</td><td>W</td><td>W</td><td>C</td><td>W</td><td>W</td><td>C</td><td>W</td><td>C</td><td>C</td><td>C</td><td>C</td><td>C</td><td>W</td><td>C</td><td>W</td><td>W</td><td>C</td><td>W</td><td>W</td><td>W</td><td>C</td><td>W</td><td>W</td><td>C</td><td>C</td><td>W</td><td>C</td><td>W</td><td>W</td><td>C</td><td>C</td><td>W</td><td>W</td><td>C</td><td>C</td><td>W</td><td>C</td><td>C</td><td>C</td><td>C</td><td>W</td><td>C</td><td>C</td><td>W</td><td>C</td><td>W</td><td>C</td><td>W</td><td>C</td><td>C</td><td>W</td><td>C</td><td>W</td></tr><tr><td>Shared&nbsp;secret&nbsp;bits</td><td>0</td><td></td><td>1</td><td>0</td><td></td><td>1</td><td>1</td><td></td><td></td><td></td><td>1</td><td></td><td></td><td></td><td></td><td></td><td>0</td><td></td><td>1</td><td>0</td><td></td><td></td><td>1</td><td></td><td></td><td>0</td><td>1</td><td>0</td><td></td><td></td><td></td><td></td><td>0</td><td>1</td><td>1</td><td></td><td>1</td><td></td><td>1</td><td>1</td><td>1</td><td>0</td><td></td><td>0</td><td>1</td><td></td><td></td><td></td><td></td><td>1</td><td></td><td></td><td>0</td><td></td><td>1</td><td>1</td><td>1</td><td>1</td><td>0</td><td></td><td>1</td><td></td><td></td><td>0</td><td></td><td></td><td></td><td>1</td><td></td><td></td><td>1</td><td>0</td><td></td><td>0</td><td></td><td></td><td>1</td><td>1</td><td></td><td></td><td>0</td><td>0</td><td></td><td>1</td><td>0</td><td>0</td><td>0</td><td></td><td>0</td><td>1</td><td></td><td>0</td><td></td><td>1</td><td></td><td>0</td><td>0</td><td></td><td>1</td><td></td></tr></table>"
      ],
      "text/plain": [
       "<IPython.core.display.HTML object>"
      ]
     },
     "metadata": {},
     "output_type": "display_data"
    },
    {
     "name": "stdout",
     "output_type": "stream",
     "text": [
      "The expected number of matching bases is 50 and the actual number is 51.\n"
     ]
    }
   ],
   "source": [
    "# Bob sends his bases to Alice who does a comparison and returns which ones match correctly and which are wrong\n",
    "bases_comparison = alice84.compare_bases(bob84bases)\n",
    "\n",
    "# Alice drops the bits that do not match\n",
    "alice84.scratch_bits(bases_comparison)\n",
    "\n",
    "# So does Bob\n",
    "bob84.scratch_bits(bases_comparison)\n",
    "\n",
    "# Let's see how things are progressing\n",
    "secret_key = bob84.show_valid_key()\n",
    "if eve_present:\n",
    "    printTable(caption=\"Step 3: Alice and Bob publicly compare bases used\",\n",
    "               rows = [[\"Bit&nbsp;number\", map(str, range(1, n+1))],\n",
    "                       [\"Alice's&nbsp;random&nbsp;bases\", alice84bases],\n",
    "                       [\"Eve's&nbsp;random&nbsp;bases\", eve84bases],\n",
    "                       [\"Bob's&nbsp;random&nbsp;bases\", bob84bases],\n",
    "                       [\"Which&nbsp;agree?\", bases_comparison],\n",
    "                       [\"Shared&nbsp;secret&nbsp;bits\", map(str, secret_key)]])\n",
    "else:\n",
    "    printTable(caption=\"Step 3: Alice and Bob publicly compare bases used\",\n",
    "               rows = [[\"Bit&nbsp;number\", map(str, range(1, n+1))],\n",
    "                       [\"Alice's&nbsp;random&nbsp;bases\", alice84bases],\n",
    "                       [\"Bob's&nbsp;random&nbsp;bases\", bob84bases],\n",
    "                       [\"Which&nbsp;agree?\", bases_comparison],\n",
    "                       [\"Shared&nbsp;secret&nbsp;bits\", map(str, secret_key)]])\n",
    "\n",
    "# and evaluate how we are doing so far\n",
    "print('The expected number of matching bases is {} and the actual number is {}.'.format(int(n/2), bases_comparison.count('C')))"
   ]
  },
  {
   "cell_type": "markdown",
   "metadata": {},
   "source": [
    "### Step 4 of the BB84 protocol - Alice and Bob check if there was an eavesdropper\n",
    "\n",
    "* Bob randomly chooses half of the remaining $\\frac{n}{2}$ bits and compares them with Alice.\n",
    "* Assuming no channel errors, Alice's and Bob's comparison should match.\n",
    "* If they do not match, then there was an eavesdropper and the whole set is discarded."
   ]
  },
  {
   "cell_type": "code",
   "execution_count": 19,
   "metadata": {},
   "outputs": [
    {
     "data": {
      "text/html": [
       "<table style=\"border-bottom: 4px double #333;border-top: 4px double #333;padding: 10px 0;\"><caption style=\"font-weight:900; color:black; border-top: 4px double #333;\">Step 4: Alice and Bob publicly compare half of the remaining bits</caption><tr><td>Bit&nbsp;number</td><td>1</td><td>2</td><td>3</td><td>4</td><td>5</td><td>6</td><td>7</td><td>8</td><td>9</td><td>10</td><td>11</td><td>12</td><td>13</td><td>14</td><td>15</td><td>16</td><td>17</td><td>18</td><td>19</td><td>20</td><td>21</td><td>22</td><td>23</td><td>24</td><td>25</td><td>26</td><td>27</td><td>28</td><td>29</td><td>30</td><td>31</td><td>32</td><td>33</td><td>34</td><td>35</td><td>36</td><td>37</td><td>38</td><td>39</td><td>40</td><td>41</td><td>42</td><td>43</td><td>44</td><td>45</td><td>46</td><td>47</td><td>48</td><td>49</td><td>50</td><td>51</td><td>52</td><td>53</td><td>54</td><td>55</td><td>56</td><td>57</td><td>58</td><td>59</td><td>60</td><td>61</td><td>62</td><td>63</td><td>64</td><td>65</td><td>66</td><td>67</td><td>68</td><td>69</td><td>70</td><td>71</td><td>72</td><td>73</td><td>74</td><td>75</td><td>76</td><td>77</td><td>78</td><td>79</td><td>80</td><td>81</td><td>82</td><td>83</td><td>84</td><td>85</td><td>86</td><td>87</td><td>88</td><td>89</td><td>90</td><td>91</td><td>92</td><td>93</td><td>94</td><td>95</td><td>96</td><td>97</td><td>98</td><td>99</td><td>100</td></tr><tr><td>Bob's&nbsp;secret&nbsp;keys</td><td>0</td><td></td><td>1</td><td>0</td><td></td><td>1</td><td>1</td><td></td><td></td><td></td><td>1</td><td></td><td></td><td></td><td></td><td></td><td>0</td><td></td><td>1</td><td>0</td><td></td><td></td><td>1</td><td></td><td></td><td>0</td><td>1</td><td>0</td><td></td><td></td><td></td><td></td><td>0</td><td>1</td><td>1</td><td></td><td>1</td><td></td><td>1</td><td>1</td><td>1</td><td>0</td><td></td><td>0</td><td>1</td><td></td><td></td><td></td><td></td><td>1</td><td></td><td></td><td>0</td><td></td><td>1</td><td>1</td><td>1</td><td>1</td><td>0</td><td></td><td>1</td><td></td><td></td><td>0</td><td></td><td></td><td></td><td>1</td><td></td><td></td><td>1</td><td>0</td><td></td><td>0</td><td></td><td></td><td>1</td><td>1</td><td></td><td></td><td>0</td><td>0</td><td></td><td>1</td><td>0</td><td>0</td><td>0</td><td></td><td>0</td><td>1</td><td></td><td>0</td><td></td><td>1</td><td></td><td>0</td><td>0</td><td></td><td>1</td><td></td></tr><tr><td>Randomly&nbsp;chosen&nbsp;to&nbsp;compare</td><td>✓</td><td></td><td></td><td></td><td></td><td></td><td></td><td></td><td></td><td></td><td>✓</td><td></td><td></td><td></td><td></td><td></td><td>✓</td><td></td><td></td><td></td><td></td><td></td><td></td><td></td><td></td><td></td><td>✓</td><td></td><td></td><td></td><td></td><td></td><td></td><td>✓</td><td></td><td></td><td></td><td></td><td>✓</td><td></td><td>✓</td><td>✓</td><td></td><td></td><td></td><td></td><td></td><td></td><td></td><td></td><td></td><td></td><td>✓</td><td></td><td></td><td></td><td></td><td></td><td></td><td></td><td></td><td></td><td></td><td></td><td></td><td></td><td></td><td>✓</td><td></td><td></td><td></td><td></td><td></td><td></td><td></td><td></td><td></td><td></td><td></td><td></td><td>✓</td><td></td><td></td><td></td><td></td><td></td><td>✓</td><td></td><td></td><td>✓</td><td></td><td></td><td></td><td>✓</td><td></td><td></td><td>✓</td><td></td><td>✓</td><td></td></tr><tr><td>Alice's&nbsp;secret&nbsp;keys</td><td>0</td><td></td><td>0</td><td>0</td><td></td><td>1</td><td>1</td><td></td><td></td><td></td><td>1</td><td></td><td></td><td></td><td></td><td></td><td>1</td><td></td><td>1</td><td>0</td><td></td><td></td><td>0</td><td></td><td></td><td>0</td><td>0</td><td>0</td><td></td><td></td><td></td><td></td><td>0</td><td>1</td><td>0</td><td></td><td>1</td><td></td><td>1</td><td>0</td><td>1</td><td>0</td><td></td><td>1</td><td>1</td><td></td><td></td><td></td><td></td><td>0</td><td></td><td></td><td>0</td><td></td><td>1</td><td>1</td><td>1</td><td>1</td><td>0</td><td></td><td>0</td><td></td><td></td><td>0</td><td></td><td></td><td></td><td>1</td><td></td><td></td><td>1</td><td>0</td><td></td><td>0</td><td></td><td></td><td>0</td><td>1</td><td></td><td></td><td>0</td><td>0</td><td></td><td>1</td><td>0</td><td>0</td><td>0</td><td></td><td>0</td><td>1</td><td></td><td>0</td><td></td><td>1</td><td></td><td>0</td><td>1</td><td></td><td>0</td><td></td></tr><tr><td>Which&nbsp;agree?</td><td>✓</td><td></td><td></td><td></td><td></td><td></td><td></td><td></td><td></td><td></td><td>✓</td><td></td><td></td><td></td><td></td><td></td><td></td><td></td><td></td><td></td><td></td><td></td><td></td><td></td><td></td><td></td><td></td><td></td><td></td><td></td><td></td><td></td><td></td><td>✓</td><td></td><td></td><td></td><td></td><td>✓</td><td></td><td>✓</td><td>✓</td><td></td><td></td><td></td><td></td><td></td><td></td><td></td><td></td><td></td><td></td><td>✓</td><td></td><td></td><td></td><td></td><td></td><td></td><td></td><td></td><td></td><td></td><td></td><td></td><td></td><td></td><td>✓</td><td></td><td></td><td></td><td></td><td></td><td></td><td></td><td></td><td></td><td></td><td></td><td></td><td>✓</td><td></td><td></td><td></td><td></td><td></td><td>✓</td><td></td><td></td><td>✓</td><td></td><td></td><td></td><td>✓</td><td></td><td></td><td></td><td></td><td></td><td></td></tr><tr><td>Unrevealed&nbsp;secret&nbsp;keys</td><td></td><td></td><td>1</td><td>0</td><td></td><td>1</td><td>1</td><td></td><td></td><td></td><td></td><td></td><td></td><td></td><td></td><td></td><td></td><td></td><td>1</td><td>0</td><td></td><td></td><td>1</td><td></td><td></td><td>0</td><td></td><td>0</td><td></td><td></td><td></td><td></td><td>0</td><td></td><td>1</td><td></td><td>1</td><td></td><td></td><td>1</td><td></td><td></td><td></td><td>0</td><td>1</td><td></td><td></td><td></td><td></td><td>1</td><td></td><td></td><td></td><td></td><td>1</td><td>1</td><td>1</td><td>1</td><td>0</td><td></td><td>1</td><td></td><td></td><td>0</td><td></td><td></td><td></td><td></td><td></td><td></td><td>1</td><td>0</td><td></td><td>0</td><td></td><td></td><td>1</td><td>1</td><td></td><td></td><td></td><td>0</td><td></td><td>1</td><td>0</td><td>0</td><td></td><td></td><td>0</td><td></td><td></td><td>0</td><td></td><td></td><td></td><td>0</td><td></td><td></td><td></td><td></td></tr></table>"
      ],
      "text/plain": [
       "<IPython.core.display.HTML object>"
      ]
     },
     "metadata": {},
     "output_type": "display_data"
    },
    {
     "name": "stdout",
     "output_type": "stream",
     "text": [
      "Alice and Bob matched 12 out of 16 bits.\n",
      "Oh oh, there seems to be an eavesdropper\n",
      "All bits must be discarded.  The key generation rate is 0.0000\n"
     ]
    }
   ],
   "source": [
    "alice_valid_key = alice84.show_valid_key()    \n",
    "bob_valid_key = bob84.show_valid_key()    \n",
    "\n",
    "# Bob chooses half of the bits from the correctly matched bases\n",
    "bits_to_compare = bob84.choose_half(bases_comparison)\n",
    "\n",
    "# Alice can check the chosen bits from her key against Bob's key\n",
    "alice84.check_bits(bob_valid_key, bits_to_compare, bases_comparison)\n",
    "\n",
    "# Bob can do the same against Alice's key and mark the bits that match\n",
    "matched = bob84.check_bits(alice_valid_key, bits_to_compare, bases_comparison)\n",
    "\n",
    "# Let's see how things turned out\n",
    "shared_secret_key = bob84.show_secret_key()\n",
    "printTable(caption=\"Step 4: Alice and Bob publicly compare half of the remaining bits\",\n",
    "           rows = [[\"Bit&nbsp;number\", map(str, range(1, n+1))],\n",
    "                   [\"Bob's&nbsp;secret&nbsp;keys\", map(str, bob_valid_key)],\n",
    "                   [\"Randomly&nbsp;chosen&nbsp;to&nbsp;compare\", bits_to_compare],\n",
    "                   [\"Alice's&nbsp;secret&nbsp;keys\", map(str, alice_valid_key)],\n",
    "                   [\"Which&nbsp;agree?\", matched],\n",
    "                   [\"Unrevealed&nbsp;secret&nbsp;keys\", map(str, shared_secret_key)]]\n",
    "          )\n",
    "\n",
    "# and evaluate our results\n",
    "print('Alice and Bob matched {} out of {} bits.'.format(matched.count('✓'), bits_to_compare.count('✓')))\n",
    "\n",
    "if matched.count('✓') == 0:\n",
    "    print('There are no usable bits. You should choose different biases for your bases')\n",
    "else:\n",
    "    if matched.count('✓') == bits_to_compare.count('✓'):\n",
    "        print('Everything seems OK, no eavesdropping detected')\n",
    "        print('There are {} usable bits in the final key from {} shared bits and {} qubits initially transmitted'\n",
    "              .format(len(list(filter(lambda x:x in {0,1}, shared_secret_key))), bases_comparison.count('C'), n))\n",
    "        print('The key generation rate is {:.4f}'.format(len(list(filter(lambda x:x in {0,1}, shared_secret_key)))/n))\n",
    "    else:\n",
    "        print('Oh oh, there seems to be an eavesdropper')\n",
    "        print('All bits must be discarded.  The key generation rate is 0.0000')"
   ]
  },
  {
   "cell_type": "code",
   "execution_count": null,
   "metadata": {},
   "outputs": [],
   "source": []
  }
 ],
 "metadata": {
  "celltoolbar": "Slideshow",
  "kernelspec": {
   "display_name": "Python 3 (ipykernel)",
   "language": "python",
   "name": "python3"
  },
  "language_info": {
   "codemirror_mode": {
    "name": "ipython",
    "version": 3
   },
   "file_extension": ".py",
   "mimetype": "text/x-python",
   "name": "python",
   "nbconvert_exporter": "python",
   "pygments_lexer": "ipython3",
   "version": "3.10.9"
  }
 },
 "nbformat": 4,
 "nbformat_minor": 4
}
