{
 "cells": [
  {
   "cell_type": "markdown",
   "metadata": {
    "slideshow": {
     "slide_type": "slide"
    }
   },
   "source": [
    "# Classical and Quantum Cryptography\n",
    "\n",
    "**Learning Outcomes:**\n",
    "1. Students will learn the relationship between classical cryptography and quantum cryptography.\n",
    "1. Students will understand the impact of quantum computing on classical cryptography. \n",
    "1. Students will learn no-cloning theorem of quantum mechanics."
   ]
  },
  {
   "cell_type": "markdown",
   "metadata": {
    "slideshow": {
     "slide_type": "slide"
    }
   },
   "source": [
    "## 1 Secret Key Cryptography\n",
    "\n",
    "Today, the applications of cryptography reach far beyond just encryption and decryption of data. It is used for authentication, integrity protection and many esoteric protocols such as secure multiparty computations, homomorphic encryption, secret sharing, and so on.\n",
    "\n",
    "Classical cryptography has a history of over 4000 years. For most of that time, it was only in the form of secret key cryptography, also known as conventional cryptography. This method uses a single key for both encryption and decryption, so the key must be kept secure. In the past, many cryptosystems didn't rely on math and used fixed keys, or the algorithm itself was the key. Today, most cryptosystems are based on mathematical models with rigorously defined security."
   ]
  },
  {
   "cell_type": "markdown",
   "metadata": {
    "slideshow": {
     "slide_type": "slide"
    }
   },
   "source": [
    "It remains surprising that most secret key algorithms in use today are still based on the primitive operations of substitution and permutation. The main reason for this is their efficiency. In 1949, Claude Shannon, who laid out the definitions for information theory, also introduced a measure for \"perfect secrecy.\" A conventional algorithm that produces a cipher that does not leak any information about the plaintext is said to provide perfect secrecy. Shannon also described how the Vernam cipher (commonly known as the One-Time Pad, or OTP) provides perfect secrecy if the key is as long as the message and is random and uniform.\n",
    "\n",
    "Most other cryptographic algorithms in use today, such as AES, 3DES, Serpent, Blowfish, and others, do not provide perfect secrecy. However, their key sizes are manageable, and their outputs are quite resistant to cryptanalysis. It is also noteworthy that none of these algorithms have any proof of security; we trust them because, to our knowledge, no one has been able to break them yet."
   ]
  },
  {
   "cell_type": "markdown",
   "metadata": {
    "slideshow": {
     "slide_type": "slide"
    }
   },
   "source": [
    "## 2 Public-Key Cryptography\n",
    "\n",
    "Even though secret key algorithms are very efficient and provide practical levels of security, they suffer from a major drawback common to all conventional algorithms: there is no easy way to exchange keys. This is where public-key algorithms come in. They transform the problem of key exchange into one of authentication. Although authentication is also a difficult problem, it avoids the complications of trusting a third party with your conventional encryption key.\n",
    "\n",
    "Public-key algorithms use two different keys: one for encryption and another for decryption. The encryption key can be given to anyone and made public, while the decryption key must be kept secret. Although the encryption and decryption keys have a one-to-one relationship, it is infeasible to derive one from the other without knowing some trapdoor information."
   ]
  },
  {
   "cell_type": "markdown",
   "metadata": {
    "slideshow": {
     "slide_type": "slide"
    }
   },
   "source": [
    "The knowledge of this trapdoor information, typically, helps solve some underlying mathematical problem efficiently. The three popular public key cryptosystems are:\n",
    "1. RSA (named after its inventors Rivest, Shamir and Adleman)\n",
    "2. Diffie-Hellman (DH - named after its inventors Diffie and Hellman)\n",
    "3. ECC (Elliptic Curve Cryptography)\n",
    "\n",
    "All these cryptosystems rely on different underlying hard mathematical problems. RSA depends on the difficulty of factoring large numbers. DH (Diffie-Hellman) depends on the difficulty of computing discrete logarithms. ECC (Elliptic Curve Cryptography) also relies on the difficulty of computing discrete logarithms, but uses certain mathematical functions called elliptic curves."
   ]
  },
  {
   "cell_type": "markdown",
   "metadata": {
    "slideshow": {
     "slide_type": "slide"
    }
   },
   "source": [
    "## A Hybrid System\n",
    "\n",
    "Today, public key cryptography and secret key cryptography thrive side by side. In fact, even today bulk of data encryption is done using secret key cryptography because of its efficiency. Public key cryptography is only used in the initial key exchange phase to generate an encryption key and to authenticate communicating parties.\n",
    "\n",
    "Further, the levels of security provided by public key cryptography per bit of encryption key is much much lower than that provided by secret key systems. The table below shows the correspondence between key sizes, algorithms and security levels."
   ]
  },
  {
   "cell_type": "markdown",
   "metadata": {
    "slideshow": {
     "slide_type": "slide"
    }
   },
   "source": [
    "| Symmetric Key Sizes (bits) | RSA and DH Key Sizes (bits) | ECC Key Sizes (bits) |\n",
    "|:--------------------------:|:---------------------------:|:--------------------:|\n",
    "| 80                         | 1024                        | 160                  |\n",
    "| 112                        | 2048                        | 224                  |\n",
    "| 128                        | 3072                        | 256                  |\n",
    "| 192                        | 7680                        | 384                  |\n",
    "| 256                        | 15360                       | 521                  |\n",
    "\n",
    "\n",
    "As one can see from the table, to provide security equivalent to AES-256, an RSA modulus size of 15,360 bits is required, which is very problematic to work with. However, ECC scales more efficiently, so most modern implementations are moving towards adopting ECC for public key exchange and authentication."
   ]
  },
  {
   "cell_type": "markdown",
   "metadata": {
    "slideshow": {
     "slide_type": "slide"
    }
   },
   "source": [
    "## 3 Impact of Quantum Computing on Classical Cryptography\n",
    "\n",
    "So far, we've discussed the various secret-key and public-key cryptosystems that are in use today, their relationship and levels of security that they provide.\n",
    "\n",
    "### 3.1 Quantum Computing\n",
    "\n",
    "Around 1985, Richard Feynman and others proposed that computers built on quantum mechanics could solve problems that classical computers cannot, or at least do so much faster.\n",
    "\n",
    "In 1994, Peter Shor produced a breakthrough algorithm that can solve the factorization problem in $log(n)$ steps, where $n$ is the size of the integer being factored. This is an exponential speedup compared to the best known classical algorithm today. Additionally, Shor's algorithm can be modified to solve the discrete logarithm problem as well. This means that once a quantum computer is built, RSA, DH, and ECC would no longer be secure. Consequently, all of cryptography as we know it today would fall apart."
   ]
  },
  {
   "cell_type": "markdown",
   "metadata": {
    "slideshow": {
     "slide_type": "slide"
    }
   },
   "source": [
    "| Cryptographic Algorithm                          | Type          | Purpose                   | Impact of quantum computer |\n",
    "|--------------------------------------------------|---------------|---------------------------|----------------------------|\n",
    "| AES-256                                          | Symmetric Key | Encryption                | Larger key sizes needed    |\n",
    "| SHA-256, SHA-3                                   |               | Hash functions            | Larger output needed       |\n",
    "| RSA                                              | Public key    | Signatures, key agreement | No longer secure           |\n",
    "| ECC                                              | Public key    | Signatures, key exchange  | No longer secure           |\n",
    "| Digital Signature Algorithm (finite field based) | Public key    | Signatures, key exchange  | No longer secure           |\n",
    "\n",
    "\n",
    "The table above, provided by NIST, shows the impact that quantum computers will have on the security of popular classical cryptosystems."
   ]
  },
  {
   "cell_type": "markdown",
   "metadata": {
    "slideshow": {
     "slide_type": "slide"
    }
   },
   "source": [
    "### 3.2 Quantum Cryptography\n",
    "\n",
    "Quantum Cryptography was invented in 1984 (before the proposals for quantum computing were put forward, surprisingly) as a replacement for public key cryptography. It provides security based on the laws of Physics instead of \"hard\" mathematical problems.\n",
    "\n",
    "We will use many quantum mechanical concepts such as superposition, entanglement, measurement, basis, quantum gates and operations to construct our quantum cryptographic protocols. The go to quantum phenomenon that we use is polarization of photons that we've seen before to describe our protocols, however, the actual implementations may end up use other phenomenon such as spin or phase difference.\n",
    "\n",
    "The security in quantum key distribution protocols mainly stems from a combination of following facts:\n",
    "\n",
    "1. An unknown quantum state cannot be cloned.\n",
    "2. A measurement in the wrong basis disturbs the qubit.\n",
    "3. Non-orthogonal qubit states cannot be distinguished from one another.\n"
   ]
  },
  {
   "cell_type": "markdown",
   "metadata": {
    "slideshow": {
     "slide_type": "slide"
    }
   },
   "source": [
    "## 4 The No-Cloning Theorem\n",
    "\n",
    "Discovered in 1982, the no-cloning theorem was a later addition to the field of quantum mechanics, but its implications were profound. It states that an unknown arbitrary qubit cannot be cloned. Therefore, an eavesdropper would be forced to make a measurement in a random basis, which would affect the original qubit if the chosen basis is incorrect.\n",
    "\n",
    "The no-cloning theorem is fundamental to all quantum cryptographic protocols and is relatively easy to understand, showing why an arbitrary qubit cannot be cloned."
   ]
  },
  {
   "cell_type": "markdown",
   "metadata": {
    "slideshow": {
     "slide_type": "slide"
    }
   },
   "source": [
    "Let's look at the details of the no-cloning theorem. Assume that we have an arbitrary state $\\rvert\\psi\\rangle$. A cloning machine/operation must take this qubit and create another identical qubit. Therefore, the operation would look like,\n",
    "\n",
    "$C(\\rvert\\psi\\rangle\\otimes0)=(\\rvert\\psi\\rangle\\otimes\\rvert\\psi\\rangle)$\n",
    "\n",
    "If such a cloning operation exists then it should work for any arbitrary qubit $\\rvert\\psi\\rangle$. Therefore,\n",
    "\n",
    "$C(\\rvert0\\rangle\\otimes\\rvert0\\rangle)=\\rvert0\\rangle\\otimes\\rvert0\\rangle$ and\n",
    "$C(\\rvert1\\rangle\\otimes\\rvert0\\rangle)=\\rvert1\\rangle\\otimes\\rvert1\\rangle$\n",
    "\n",
    "We are using $\\rvert0\\rangle$ as a template onto which the qubit is being copied. In general,\n",
    "\n",
    "$C((\\alpha\\rvert0\\rangle+\\beta\\rvert1\\rangle)\\otimes\\rvert0\\rangle)=  C(\\alpha\\rvert0\\rangle\\otimes\\rvert0\\rangle +\\beta\\rvert1\\rangle\\otimes\\rvert0\\rangle)=  C(\\alpha\\rvert0\\rangle\\otimes\\rvert0\\rangle)+ C(\\beta\\rvert1\\rangle\\otimes\\rvert0\\rangle)=  \\alpha\\rvert0\\rangle\\otimes\\rvert0\\rangle+\\beta\\rvert1\\rangle\\otimes\\rvert1\\rangle$\n",
    "\n",
    "for an arbitrary quantum state that is in superposition of $\\rvert0\\rangle$ and $\\rvert1\\rangle$ because $C$ is a linear operation."
   ]
  },
  {
   "cell_type": "markdown",
   "metadata": {
    "slideshow": {
     "slide_type": "slide"
    }
   },
   "source": [
    "Now if $C$ is a cloning machine, then if we are given a state $\\alpha\\rvert0\\rangle+\\beta\\rvert1\\rangle$ we would like the clone to also be $\\alpha\\rvert0\\rangle+\\beta\\rvert1\\rangle$. Therefore, we would like,\n",
    "\n",
    "$C((\\alpha\\rvert0\\rangle+\\beta\\rvert1\\rangle)\\otimes\\rvert0\\rangle)=(\\alpha\\rvert0\\rangle+\\beta\\rvert1\\rangle)\\otimes(\\alpha\\rvert0\\rangle+\\beta\\rvert1\\rangle)$\n",
    "\n",
    "However, $(\\alpha\\rvert0\\rangle+\\beta\\rvert1\\rangle)\\otimes(\\alpha\\rvert0\\rangle+\\beta\\rvert1\\rangle)\\neq\\alpha\\rvert0\\rangle\\otimes\\rvert0\\rangle+\\beta\\rvert1\\rangle\\otimes\\rvert1\\rangle$\n",
    "\n",
    "Therefore, cloning of an arbitrary qubit state is not possible. Although it may suspiciously look like CNOT should do the trick, the theorem holds.\n",
    "\n",
    "Note, however, that transporting of a qubit from one place to another is allowed and manifests itself in the form of quantum teleportation. In this application the original qubit is destroyed and recreated at the receiving end."
   ]
  }
 ],
 "metadata": {
  "celltoolbar": "Slideshow",
  "kernelspec": {
   "display_name": "Python 3 (ipykernel)",
   "language": "python",
   "name": "python3"
  },
  "language_info": {
   "codemirror_mode": {
    "name": "ipython",
    "version": 3
   },
   "file_extension": ".py",
   "mimetype": "text/x-python",
   "name": "python",
   "nbconvert_exporter": "python",
   "pygments_lexer": "ipython3",
   "version": "3.10.9"
  }
 },
 "nbformat": 4,
 "nbformat_minor": 2
}
