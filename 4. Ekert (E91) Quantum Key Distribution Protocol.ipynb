{
 "cells": [
  {
   "cell_type": "markdown",
   "metadata": {
    "slideshow": {
     "slide_type": "slide"
    }
   },
   "source": [
    "# Entanglement based QKD\n",
    "\n",
    "**Learning Objectives:**\n",
    "1. Students will apply the principle of quantum entanglement and Bell's inequality to construct a quantum key distribution protocol.\n",
    "1. Students will be able to use Bell's inequality to check for eavesdropping.\n",
    "\n",
    "\n",
    "\n"
   ]
  },
  {
   "cell_type": "markdown",
   "metadata": {
    "slideshow": {
     "slide_type": "slide"
    }
   },
   "source": [
    "## 1 Introduction\n",
    "\n",
    "Another interesting turn in the field of quantum cryptography was the development of QKD schemes based on quantum entanglement. In fact, quantum entanglement now forms the basis of new types of schemes that are coming up called measurement devices independent QKD.\n",
    "\n",
    "Before we describe Ekert protocol (popularly called E91), the first QKD protocol using quantum entanglement, we will discuss a simpler version of the protocol."
   ]
  },
  {
   "cell_type": "markdown",
   "metadata": {
    "slideshow": {
     "slide_type": "slide"
    }
   },
   "source": [
    "## 2 EPR Based QKD Protocol\n",
    "\n",
    "Consider a Bell pair $\\frac{\\rvert00\\rangle + \\rvert11\\rangle}{\\sqrt{2}}$. We can also work with other Bell pairs for example $\\frac{\\rvert01\\rangle + \\rvert10\\rangle}{\\sqrt{2}}$. However, using $\\frac{\\rvert01\\rangle + \\rvert10\\rangle}{\\sqrt{2}}$ will result in Alice and Bob having opposite bit strings. \n",
    "For simplicity, we can assume that these Bell pairs were created sometime in the past and now Alice and Bob each have one qubit out of it. Alternatively, we can assume that Alice and Bob are provided a qubit out of the Bell pair by some third-party source who generates such pairs. \n",
    "\n",
    "Suppose Alice and Bob want to exchange a secret key. When they are ready they will measure their respective qubits. The order of which the measurements take place (Alice measures first or Bob measures first) does not matter. \n",
    "\n",
    "To prevent a third party from obtaining the same random string Alice and Bob must measure their qubits randomly in one of the two random (non-orthogonal) bases . \n",
    "\n"
   ]
  },
  {
   "cell_type": "markdown",
   "metadata": {
    "slideshow": {
     "slide_type": "slide"
    }
   },
   "source": [
    "### The Protocol Flow\n",
    "\n",
    "Assume that the bases are &#10010; and &#x2716; as before.\n",
    "\n",
    "The protocol proceeds shown in the table below. \n",
    "\n",
    "\n",
    "|-|-|-|-|-|        \n",
    "|: --- |:--:|: -- :|:--:|:--:|\n",
    "| ***Alice's Random Bases*** |✚ |✖| ✖ |✚ |✖ |✖ |✚ |✚ |\n",
    "| ***Alice's Observations*** |→  |↖|↖  |↑  |↖ |↗ |↑ |↑  |\n",
    "| ***Bob's Random Bases***   |✖ |✖| ✚ |✚ |✖ |✚ |✖|✚  |\n",
    "| ***Bob's Observations***   |↗ |↖ |↑  |↑  |↖  |→  | ↖|↑|  \n",
    "| ***Bases agree***          |  | Y |  | Y  | Y  |  | |Y |\n",
    "\n",
    "Alice and Bob keep the bits that were measured in the same basis.\n",
    "\n",
    "To detect an eavesdropper or other sources (environment) that may have either caused a qubit to collapse or entanglement to disintegrate, Alice and Bob will publicly compare the values of some of the qubits to look for discrepancies. If any discrepancies are found, assuming an error free channel, Alice and Bob have to throw out the exchanged bits. \n",
    "\n",
    "![EPR Protocol Illustration](nanomod5-fig1.png)\n"
   ]
  },
  {
   "cell_type": "markdown",
   "metadata": {
    "slideshow": {
     "slide_type": "slide"
    }
   },
   "source": [
    "## 3 The E91 Protocol\n",
    "\n",
    "Ekert’s 1991 protocol is almost the same as the EPR protocol from the previous section but differs in two steps. \n",
    "\n",
    "First, the measurement is done in three different bases (instead of just two).\n",
    "\n",
    "Second, the qubits that both parties measure in the same basis are saved as possible keys, the qubits that were measured in different basis are used to detect any eavesdropper, or decoherence of the entangled qubits by checking if they violate Bell's inequality (CHSH game) or not.\n",
    "\n",
    "Of the qubits are independent qubits (not entangled) they will satisfy Bell's inequality. \n"
   ]
  },
  {
   "cell_type": "code",
   "execution_count": 31,
   "metadata": {},
   "outputs": [
    {
     "data": {
      "application/vnd.jupyter.widget-view+json": {
       "model_id": "61db7f73f8a84907980a35625dd48f60",
       "version_major": 2,
       "version_minor": 0
      },
      "text/plain": [
       "VBox(children=(Label(value='Enter number of initial qubits'), IntText(value=100)))"
      ]
     },
     "metadata": {},
     "output_type": "display_data"
    },
    {
     "data": {
      "application/vnd.jupyter.widget-view+json": {
       "model_id": "de9c522ea44e4d7faf2e07e960b3541a",
       "version_major": 2,
       "version_minor": 0
      },
      "text/plain": [
       "VBox(children=(Label(value='Eve is not active'), ToggleButton(value=False, button_style='success', description…"
      ]
     },
     "metadata": {},
     "output_type": "display_data"
    }
   ],
   "source": [
    "# Code to generate GUI for entering program parameters\n",
    "import random\n",
    "import ipywidgets as widgets\n",
    "from IPython.display import display\n",
    "from random import choices\n",
    "import numpy.random as npr\n",
    "import numpy\n",
    "\n",
    "# Configuration of the widget that controls the number of qubits\n",
    "number_of_qubits = widgets.IntText(\n",
    "                    value=100,\n",
    "                    disabled=False\n",
    "                    )\n",
    "qubit_control = widgets.VBox([widgets.Label(value=\"Enter number of initial qubits\"), number_of_qubits])\n",
    "\n",
    "# Configuration of the widget that controls whether Eve is active or not\n",
    "is_Eve_active =  widgets.ToggleButton(\n",
    "                    value=False,\n",
    "                    description='Click to activate',\n",
    "                    disabled=False,\n",
    "                    button_style='success', # 'success', 'info', 'warning', 'danger' or ''\n",
    "                    tooltip='Will Eve intercept the transmission',\n",
    "                    icon=''\n",
    "                    )\n",
    "eve_message = widgets.Label(value=\"Eve is not active\")\n",
    "eve_control = widgets.VBox([eve_message, is_Eve_active])\n",
    "\n",
    "# Configuration of an event handler for the eve control widget\n",
    "def on_value_change(change):\n",
    "    is_Eve_active.description = 'Click to deactivate' if change['new'] else 'Click to activate'\n",
    "    eve_message.value = 'Eve is active' if change['new'] else 'Eve is not active'\n",
    "is_Eve_active.observe(on_value_change, names='value')\n",
    "\n",
    "eve_present = is_Eve_active.value\n",
    "# display the control widgets\n",
    "display(qubit_control, eve_control)"
   ]
  },
  {
   "cell_type": "code",
   "execution_count": 32,
   "metadata": {},
   "outputs": [
    {
     "name": "stdout",
     "output_type": "stream",
     "text": [
      "Program parameters have been entered into the program as follows:\n",
      "  * Central Source will generate 90 entangled qubit pairs, sending one qubit to Alice and the other to Bob.\n",
      "  * Eve will not intercept the transmission.\n"
     ]
    }
   ],
   "source": [
    "# parameters passed into main program from GUI\n",
    "n = number_of_qubits.value\n",
    "eve_present = is_Eve_active.value\n",
    "\n",
    "# Let's remind us of the parameters that we are working with\n",
    "print(\"Program parameters have been entered into the program as follows:\")\n",
    "print(\"  * Central Source will generate {} entangled qubit pairs, sending one qubit to Alice and the other to Bob.\".format(n))\n",
    "print(\"  * Eve will {}intercept the transmission.\".format('' if eve_present else 'not '))\n"
   ]
  },
  {
   "cell_type": "code",
   "execution_count": 24,
   "metadata": {},
   "outputs": [],
   "source": [
    "def entangled_qubit_source(number_of_qubits):\n",
    "    alice_qubits, bob_qubits = [], []\n",
    "    for i in range(number_of_qubits):\n",
    "        value1 = random.choice([0, 1])\n",
    "        value2 = 1 - value1\n",
    "        alice_qubits.append(value1)\n",
    "        bob_qubits.append(value2)\n",
    "    return alice_qubits, bob_qubits\n",
    "\n",
    "def random_bases(number_of_qubits):\n",
    "    alice_bases = []\n",
    "    bob_bases = []\n",
    "    eves_bases = []\n",
    "    for i in range(number_of_qubits):\n",
    "        # Generate a random choice with specified weights\n",
    "        choice = choices(\n",
    "            ['a2b1', 'a3b2', 'a1b1', 'a1b3', 'a3b1', 'a3b3', 'a1b2', 'a2b2', 'a2b3'],\n",
    "            cum_weights=[1/6, 1/3, 4/9, 5/9, 6/9, 7/9, 23/27, 25/27, 1],\n",
    "            k=1\n",
    "        )[0]\n",
    "\n",
    "        # Split the choice into Alice's and Bob's bases\n",
    "        alice_base, bob_base = choice.split('b')\n",
    "\n",
    "        # Eves bases\n",
    "        eves_choice = choices(['e1', 'e2', 'e3'], cum_weights=[1/3, 2/3, 1], k=1)[0]\n",
    "\n",
    "        # Append Alice's and Bob's bases to the lists\n",
    "        alice_bases.append(alice_base)\n",
    "        bob_bases.append('b' + bob_base)\n",
    "        eves_bases.append(eves_choice)\n",
    "    return alice_bases, bob_bases, eves_bases\n",
    "\n",
    "def scratch_bits(alice_bases, bob_bases):\n",
    "    sifted_key = []\n",
    "    for alice_base, bob_base in zip(alice_bases, bob_bases):\n",
    "        if alice_base == \"a2\" and bob_base == \"b1\":\n",
    "            sifted_key.append(1)\n",
    "        elif alice_base == \"a3\" and bob_base == \"b2\":\n",
    "            sifted_key.append(1)\n",
    "        else:\n",
    "            sifted_key.append('W')\n",
    "    return sifted_key\n",
    "\n",
    "def sift_key(sifted_key, alice_qubits, bob_qubits):\n",
    "    generated = 0\n",
    "    alice_sifted_key, bob_sifted_key = [], []\n",
    "    for index, value in enumerate(sifted_key):\n",
    "        if value != \"W\":\n",
    "            generated += 1\n",
    "            alice_sifted_key.append(alice_qubits[index])\n",
    "            flipped_value = 1 - bob_qubits[index]  # Flip the value\n",
    "            bob_sifted_key.append(flipped_value)\n",
    "    return alice_sifted_key, bob_sifted_key, generated\n",
    "\n",
    "def detect_eves_pres(sifted_key, alice_bases, alice_qubits, bob_qubits, bob_bases):\n",
    "    countMatrix = {\n",
    "        'a1b1': {'uu': 0, 'ud': 0, 'du': 0, 'dd': 0},\n",
    "        'a1b3': {'uu': 0, 'ud': 0, 'du': 0, 'dd': 0},\n",
    "        'a3b1': {'uu': 0, 'ud': 0, 'du': 0, 'dd': 0},\n",
    "        'a3b3': {'uu': 0, 'ud': 0, 'du': 0, 'dd': 0}\n",
    "    }\n",
    "\n",
    "    for index, value in enumerate(sifted_key):\n",
    "        alice_base = alice_bases[index]\n",
    "        bob_base = bob_bases[index]\n",
    "        base = alice_base + bob_base\n",
    "\n",
    "        if value == 'W' and base in countMatrix:\n",
    "            alice_dir = 'u' if alice_qubits[index] == 1 else 'd'\n",
    "            bob_dir = 'u' if bob_qubits[index] == 1 else 'd'\n",
    "            dir = alice_dir + bob_dir\n",
    "\n",
    "            countMatrix[base][dir] += 1\n",
    "\n",
    "    return countMatrix\n",
    "\n",
    "# Calculate S value from unused correlation coefficients\n",
    "def calcBigOlSVal(countMatrix):\n",
    "    # Initialize coefficients\n",
    "    coef = {'a1b1': 0, 'a1b3': 0, 'a3b1': 0, 'a3b3': 0}\n",
    "\n",
    "    # Calculate coefficients for each correlation\n",
    "    for key in countMatrix:\n",
    "        tempCount = countMatrix[key]\n",
    "        totCounts = sum(tempCount.values())\n",
    "\n",
    "        if totCounts != 0:\n",
    "            coef[key] = float(tempCount['uu'] + tempCount['dd'] - tempCount['ud'] - tempCount['du']) / totCounts\n",
    "        else:\n",
    "            coef[key] = 0\n",
    "\n",
    "    # Calculate and return the S value\n",
    "    return coef['a1b1'] - coef['a1b3'] + coef['a3b1'] + coef['a3b3']\n",
    "\n",
    "def printTable(caption, rows):\n",
    "    \"\"\"Make a nice looking table like in the book\"\"\"\n",
    "    from IPython.display import HTML, display\n",
    "    display(HTML(\n",
    "        '<table style=\"border-bottom: 4px double #333;border-top: 4px double #333;padding: 10px 0;\">' +\n",
    "        '<caption style=\"font-weight:900; color:black; border-top: 4px double #333;\">' + caption + '</caption>' +\n",
    "        '<tr>{}</tr></table>'.format('</tr><tr>'.join(\n",
    "            '<td>' + row[0] + '</td><td>{}</td>'.format('</td><td>'.join(row[1])) for row in rows)\n",
    "        )\n",
    "    ))\n"
   ]
  },
  {
   "cell_type": "code",
   "execution_count": 25,
   "metadata": {},
   "outputs": [
    {
     "data": {
      "text/html": [
       "<table style=\"border-bottom: 4px double #333;border-top: 4px double #333;padding: 10px 0;\"><caption style=\"font-weight:900; color:black; border-top: 4px double #333;\">The number of generated digits are: 26</caption><tr><td>Generated&nbsp;digits</td><td>26</td></tr><tr><td>Alice's&nbsp;key</td><td>0</td><td>1</td><td>1</td><td>0</td><td>1</td><td>0</td><td>0</td><td>0</td><td>0</td><td>1</td><td>0</td><td>0</td><td>1</td><td>1</td><td>1</td><td>1</td><td>1</td><td>0</td><td>0</td><td>1</td><td>0</td><td>1</td><td>1</td><td>1</td><td>1</td><td>1</td><td>1</td><td>1</td><td>1</td><td>0</td><td>1</td><td>0</td><td>1</td><td>1</td><td>1</td><td>0</td><td>0</td><td>0</td><td>1</td><td>1</td><td>1</td><td>1</td><td>1</td><td>0</td><td>1</td><td>0</td><td>0</td><td>0</td><td>1</td><td>1</td><td>0</td><td>1</td><td>0</td><td>1</td><td>0</td><td>1</td><td>1</td><td>1</td><td>1</td><td>1</td><td>1</td><td>0</td><td>1</td><td>1</td><td>1</td><td>0</td><td>0</td><td>0</td><td>0</td><td>1</td><td>0</td><td>1</td><td>1</td><td>0</td><td>1</td><td>0</td><td>0</td><td>0</td><td>1</td><td>0</td><td>1</td><td>1</td><td>1</td><td>0</td><td>1</td><td>0</td><td>0</td><td>0</td><td>0</td><td>1</td><td>1</td><td>0</td><td>1</td><td>0</td><td>1</td><td>1</td><td>0</td><td>1</td><td>0</td><td>0</td></tr><tr><td>Bob's&nbsp;key</td><td>1</td><td>1</td><td>0</td><td>1</td><td>1</td><td>0</td><td>1</td><td>0</td><td>1</td><td>0</td><td>0</td><td>0</td><td>1</td><td>1</td><td>0</td><td>0</td><td>1</td><td>1</td><td>0</td><td>0</td><td>0</td><td>1</td><td>0</td><td>1</td><td>1</td><td>1</td><td>1</td><td>0</td><td>0</td><td>0</td><td>0</td><td>1</td><td>0</td><td>0</td><td>0</td><td>0</td><td>1</td><td>0</td><td>0</td><td>1</td><td>0</td><td>0</td><td>0</td><td>1</td><td>0</td><td>0</td><td>1</td><td>0</td><td>1</td><td>1</td><td>0</td><td>1</td><td>1</td><td>1</td><td>1</td><td>0</td><td>1</td><td>0</td><td>1</td><td>1</td><td>0</td><td>1</td><td>1</td><td>1</td><td>1</td><td>1</td><td>1</td><td>1</td><td>0</td><td>1</td><td>1</td><td>1</td><td>1</td><td>0</td><td>1</td><td>1</td><td>0</td><td>0</td><td>1</td><td>0</td><td>1</td><td>1</td><td>1</td><td>1</td><td>1</td><td>0</td><td>0</td><td>0</td><td>0</td><td>0</td><td>0</td><td>0</td><td>0</td><td>1</td><td>0</td><td>1</td><td>1</td><td>0</td><td>0</td><td>1</td></tr><tr><td>Alice's&nbsp;bases</td><td>a1</td><td>a2</td><td>a2</td><td>a3</td><td>a3</td><td>a3</td><td>a3</td><td>a1</td><td>a3</td><td>a1</td><td>a3</td><td>a3</td><td>a3</td><td>a3</td><td>a1</td><td>a2</td><td>a1</td><td>a3</td><td>a3</td><td>a1</td><td>a1</td><td>a3</td><td>a1</td><td>a3</td><td>a3</td><td>a1</td><td>a1</td><td>a3</td><td>a3</td><td>a3</td><td>a2</td><td>a2</td><td>a3</td><td>a1</td><td>a2</td><td>a2</td><td>a1</td><td>a2</td><td>a3</td><td>a3</td><td>a1</td><td>a1</td><td>a2</td><td>a3</td><td>a3</td><td>a2</td><td>a3</td><td>a1</td><td>a1</td><td>a2</td><td>a2</td><td>a1</td><td>a1</td><td>a3</td><td>a1</td><td>a1</td><td>a3</td><td>a3</td><td>a1</td><td>a1</td><td>a2</td><td>a2</td><td>a2</td><td>a3</td><td>a1</td><td>a2</td><td>a3</td><td>a1</td><td>a2</td><td>a2</td><td>a2</td><td>a3</td><td>a1</td><td>a2</td><td>a2</td><td>a2</td><td>a1</td><td>a3</td><td>a1</td><td>a1</td><td>a3</td><td>a3</td><td>a3</td><td>a2</td><td>a1</td><td>a3</td><td>a1</td><td>a1</td><td>a3</td><td>a3</td><td>a3</td><td>a3</td><td>a1</td><td>a3</td><td>a2</td><td>a1</td><td>a2</td><td>a1</td><td>a2</td><td>a3</td></tr><tr><td>Bob's&nbsp;bases</td><td>b2</td><td>b1</td><td>b1</td><td>b3</td><td>b2</td><td>b2</td><td>b2</td><td>b3</td><td>b2</td><td>b1</td><td>b2</td><td>b1</td><td>b3</td><td>b2</td><td>b1</td><td>b2</td><td>b3</td><td>b1</td><td>b3</td><td>b1</td><td>b3</td><td>b1</td><td>b1</td><td>b1</td><td>b3</td><td>b1</td><td>b3</td><td>b2</td><td>b1</td><td>b2</td><td>b2</td><td>b1</td><td>b1</td><td>b2</td><td>b1</td><td>b2</td><td>b1</td><td>b1</td><td>b2</td><td>b3</td><td>b1</td><td>b3</td><td>b2</td><td>b3</td><td>b2</td><td>b1</td><td>b2</td><td>b3</td><td>b1</td><td>b1</td><td>b1</td><td>b1</td><td>b1</td><td>b3</td><td>b3</td><td>b1</td><td>b3</td><td>b3</td><td>b1</td><td>b1</td><td>b3</td><td>b1</td><td>b3</td><td>b1</td><td>b1</td><td>b2</td><td>b3</td><td>b3</td><td>b1</td><td>b3</td><td>b3</td><td>b1</td><td>b1</td><td>b2</td><td>b1</td><td>b1</td><td>b1</td><td>b3</td><td>b1</td><td>b3</td><td>b3</td><td>b3</td><td>b3</td><td>b3</td><td>b1</td><td>b1</td><td>b3</td><td>b3</td><td>b3</td><td>b3</td><td>b2</td><td>b1</td><td>b3</td><td>b2</td><td>b2</td><td>b1</td><td>b1</td><td>b1</td><td>b3</td><td>b1</td></tr><tr><td>Sifted&nbsp;key</td><td>W</td><td>1</td><td>1</td><td>W</td><td>1</td><td>1</td><td>1</td><td>W</td><td>1</td><td>W</td><td>1</td><td>W</td><td>W</td><td>1</td><td>W</td><td>W</td><td>W</td><td>W</td><td>W</td><td>W</td><td>W</td><td>W</td><td>W</td><td>W</td><td>W</td><td>W</td><td>W</td><td>1</td><td>W</td><td>1</td><td>W</td><td>1</td><td>W</td><td>W</td><td>1</td><td>W</td><td>W</td><td>1</td><td>1</td><td>W</td><td>W</td><td>W</td><td>W</td><td>W</td><td>1</td><td>1</td><td>1</td><td>W</td><td>W</td><td>1</td><td>1</td><td>W</td><td>W</td><td>W</td><td>W</td><td>W</td><td>W</td><td>W</td><td>W</td><td>W</td><td>W</td><td>1</td><td>W</td><td>W</td><td>W</td><td>W</td><td>W</td><td>W</td><td>1</td><td>W</td><td>W</td><td>W</td><td>W</td><td>W</td><td>1</td><td>1</td><td>W</td><td>W</td><td>W</td><td>W</td><td>W</td><td>W</td><td>W</td><td>W</td><td>W</td><td>W</td><td>W</td><td>W</td><td>W</td><td>W</td><td>1</td><td>W</td><td>W</td><td>1</td><td>W</td><td>W</td><td>1</td><td>W</td><td>W</td><td>W</td></tr><tr><td>Alice's&nbsp;private&nbsp;key</td><td>1</td><td>1</td><td>1</td><td>0</td><td>0</td><td>0</td><td>0</td><td>1</td><td>1</td><td>0</td><td>0</td><td>1</td><td>0</td><td>1</td><td>1</td><td>0</td><td>0</td><td>1</td><td>0</td><td>0</td><td>0</td><td>1</td><td>0</td><td>1</td><td>0</td><td>0</td></tr><tr><td>Bob's&nbsp;private&nbsp;key</td><td>0</td><td>1</td><td>0</td><td>1</td><td>0</td><td>0</td><td>1</td><td>0</td><td>1</td><td>1</td><td>0</td><td>1</td><td>1</td><td>1</td><td>1</td><td>1</td><td>0</td><td>0</td><td>1</td><td>0</td><td>1</td><td>0</td><td>0</td><td>1</td><td>0</td><td>0</td></tr><tr><td>Eve's&nbsp;qubits</td><td>0</td><td>N/A</td><td>1</td><td>Not</td><td>N/A</td><td>N/A</td><td>0</td><td>N/A</td><td>0</td><td>1</td><td>N/A</td><td>N/A</td><td>N/A</td><td>N/A</td><td>1</td><td>1</td><td>N/A</td><td>0</td><td>N/A</td><td>1</td><td>N/A</td><td>N/A</td><td>1</td><td>N/A</td><td>N/A</td><td>N/A</td><td>N/A</td><td>1</td><td>Not</td><td>N/A</td><td>1</td><td>Not</td><td>1</td><td>1</td><td>1</td><td>N/A</td><td>0</td><td>N/A</td><td>Not</td><td>N/A</td><td>1</td><td>1</td><td>Not</td><td>0</td><td>Not</td><td>N/A</td><td>0</td><td>N/A</td><td>N/A</td><td>N/A</td><td>N/A</td><td>N/A</td><td>0</td><td>N/A</td><td>0</td><td>1</td><td>N/A</td><td>1</td><td>N/A</td><td>N/A</td><td>Not</td><td>0</td><td>N/A</td><td>N/A</td><td>N/A</td><td>0</td><td>0</td><td>Not</td><td>N/A</td><td>N/A</td><td>0</td><td>N/A</td><td>N/A</td><td>N/A</td><td>N/A</td><td>0</td><td>N/A</td><td>N/A</td><td>N/A</td><td>N/A</td><td>N/A</td><td>N/A</td><td>N/A</td><td>0</td><td>N/A</td><td>N/A</td><td>N/A</td><td>N/A</td><td>N/A</td><td>1</td><td>1</td><td>N/A</td><td>1</td><td>0</td><td>1</td><td>N/A</td><td>0</td><td>1</td><td>N/A</td><td>Not</td></tr></table>"
      ],
      "text/plain": [
       "<IPython.core.display.HTML object>"
      ]
     },
     "metadata": {},
     "output_type": "display_data"
    },
    {
     "name": "stdout",
     "output_type": "stream",
     "text": [
      "!!!!! Eve Detected !!!!!\n",
      "An S value of 0.4143939393939394 was found. This deviation from the true value of -2.8284271247461903 \n",
      "is 1.27 times higher than the Eve tolerance of 90.0%.\n"
     ]
    }
   ],
   "source": [
    "n = number_of_qubits.value\n",
    "eve_present = is_Eve_active.value\n",
    "\n",
    "eveStat = { 'intercepted' : 0, 'choseRight' : 0 }\n",
    "eveInterceptRate = 0.9\n",
    "eveDetTol = 0.9\n",
    "eves_qubits = []\n",
    "\n",
    "alice_qubits,bob_qubits = entangled_qubit_source(n)\n",
    "alice_bases,bob_bases,eves_bases = random_bases(n)\n",
    "\n",
    "if eve_present:\n",
    "    for index in range(n):\n",
    "        aIndex = alice_bases[index][1]\n",
    "        eIndex = eves_bases[index][1]\n",
    "        if npr.rand() > ( 1 - eveInterceptRate ):\n",
    "            eveStat['intercepted'] += 1\n",
    "            if aIndex == eIndex:\n",
    "                eveStat['choseRight'] += 1\n",
    "                eves_qubits.append(alice_qubits[index])\n",
    "            else :\n",
    "                alice_qubits[index] =  1 - alice_qubits[index]\n",
    "                eves_qubits.append(\"N/A\")\n",
    "        else:\n",
    "            eves_qubits.append(\"Not\")\n",
    "\n",
    "sifted_key = scratch_bits(alice_bases,bob_bases)\n",
    "counterMatrix = detect_eves_pres(sifted_key, alice_bases, alice_qubits, bob_qubits, bob_bases)\n",
    "s = calcBigOlSVal(counterMatrix)\n",
    "expected = -2*numpy.sqrt(2)\n",
    "ratio = numpy.abs( (s - expected ) / expected )\n",
    "alice_private_key, bob_private_key,generated = sift_key(sifted_key,alice_qubits,bob_qubits)\n",
    "\n",
    "printTable(\n",
    "    caption=\"The number of generated digits are: \" + str(generated),\n",
    "    rows=[\n",
    "        [\"Generated&nbsp;digits\", [str(generated)]],\n",
    "        [\"Alice's&nbsp;key\", list(map(str, alice_qubits))],\n",
    "        [\"Bob's&nbsp;key\", list(map(str, bob_qubits))],\n",
    "        [\"Alice's&nbsp;bases\", list(map(str, alice_bases))],\n",
    "        [\"Bob's&nbsp;bases\", list(map(str, bob_bases))],\n",
    "        [\"Sifted&nbsp;key\", list(map(str, sifted_key))],\n",
    "        [\"Alice's&nbsp;private&nbsp;key\", list(map(str, alice_private_key))],\n",
    "        [\"Bob's&nbsp;private&nbsp;key\", list(map(str, bob_private_key))],\n",
    "        [\"Eve's&nbsp;qubits\", list(map(str, eves_qubits))]])\n",
    "\n",
    "if  ratio > eveDetTol:\n",
    "    print('!!!!! Eve Detected !!!!!')\n",
    "    print('An S value of {0} was found. This deviation from the true value of {3} \\nis {1} times higher than the Eve tolerance of {2}%.'.format(s, round(ratio/eveDetTol, 2), 100*eveDetTol, expected ))\n",
    "else:\n",
    "    print('An S value of {0} was found. This is within {1}% of the expected value {2}.\\nThis is below the Eve Detection tolerance of {3}% and therefore and we assume no Eve presence'.format(s, 100*round(ratio, 2), expected, 100*eveDetTol))"
   ]
  },
  {
   "cell_type": "code",
   "execution_count": null,
   "metadata": {},
   "outputs": [],
   "source": []
  }
 ],
 "metadata": {
  "celltoolbar": "Slideshow",
  "kernelspec": {
   "display_name": "Python 3 (ipykernel)",
   "language": "python",
   "name": "python3"
  },
  "language_info": {
   "codemirror_mode": {
    "name": "ipython",
    "version": 3
   },
   "file_extension": ".py",
   "mimetype": "text/x-python",
   "name": "python",
   "nbconvert_exporter": "python",
   "pygments_lexer": "ipython3",
   "version": "3.10.9"
  }
 },
 "nbformat": 4,
 "nbformat_minor": 4
}
