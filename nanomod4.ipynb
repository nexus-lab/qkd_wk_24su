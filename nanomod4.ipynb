{
 "cells": [
  {
   "cell_type": "markdown",
   "metadata": {
    "slideshow": {
     "slide_type": "slide"
    }
   },
   "source": [
    "# The Three-Stage Quantum Key Distribution Protocol\n",
    "\n",
    "**Learning Outcomes:**\n",
    "\n",
    "Upon completion of this lesson:\n",
    "1. Students will understand the concept of double lock cryptography.\n",
    "1. Students will know the working of three-stage quantum key distribution protocol.\n",
    "1. Students will be able to apply the concepts of orthogonality of basis, measurement and indistinguishability of non-orthogonal states.\n"
   ]
  },
  {
   "cell_type": "markdown",
   "metadata": {
    "slideshow": {
     "slide_type": "slide"
    }
   },
   "source": [
    "## 1 Background\n",
    "\n",
    "So far we’ve seen protocols that use non-orthogonal basis and states to exchange keys. However, there are other ways of achieving the same goal. The three-stage protocol is one of them.\n",
    "\n",
    "The Three-stage protocol is based on one of the oldest ideas in secure exchange of messages and only assumes the availability of an authenticated channel. \n",
    "\n",
    "Consider Alice wants to secretly send a message to Bob. Both Alice and Bob have locks that are unique and only the other person recognizes as belonging to Alice/Bob. Now the secret message can be put into a strong box and sent to Bob using double lock cryptography. The process is straightforward and shown below. \n",
    "\n",
    "![nanomod4-fig1.png](nanomod4-fig1.png)\n",
    "\n",
    "*Note: There was no key exchange necessary in the above protocol.*"
   ]
  },
  {
   "cell_type": "markdown",
   "metadata": {
    "slideshow": {
     "slide_type": "slide"
    }
   },
   "source": [
    "## 2 The 3-Stage QKD Protocol\n",
    "\n",
    "The three stage protocol is a simple, yet powerful, quantum analogy of the double lock cryptography.\n",
    "\n",
    "Assume Alice wants to send an arbitrary state $\\rvert+\\rangle$ to Bob.\n",
    "\n",
    "Both Alice and Bob are connected via an authenticated channel and have secret rotation transformations $U_a$ and $U_b$ such that $U_a U_b$ = $U_b U_a$\n",
    "\n",
    "$U_\\theta$ may be of the form,\n",
    "\n",
    "$U_\\theta =\\begin{bmatrix}cos \\theta & -sin \\theta \\\\sin\\theta& cos\\theta& \\end{bmatrix}$ \n"
   ]
  },
  {
   "cell_type": "markdown",
   "metadata": {
    "slideshow": {
     "slide_type": "slide"
    }
   },
   "source": [
    "The protocol proceeds as follows:\n",
    "\n",
    "1. Alice applies the secret transformation $U_a$ to $\\rvert+\\rangle$ and then sends Bob $U_a(\\rvert+\\rangle)$\n",
    "\n",
    "2. Bob applies $U_b$ and sends to Alice $U_b U_a(\\rvert+\\rangle)$\n",
    "\n",
    "3. Alice applies $U_a^\\dagger$ and returns $U_b(\\rvert+\\rangle)$ to Bob.\n",
    "\n",
    "4. Bob applies $U_b^\\dagger$ and retrieves $\\rvert+\\rangle$. \n",
    "\n",
    "State $\\rvert+\\rangle$ may be our encryption key or data or output of a quantum algorithm.\n",
    "\n",
    "\n",
    "\n"
   ]
  },
  {
   "cell_type": "markdown",
   "metadata": {
    "slideshow": {
     "slide_type": "slide"
    }
   },
   "source": [
    "## 3 The Protocol Flow\n",
    "\n",
    "![nanomod4-fig2.png](nanomod4-fig2.png)\n",
    "\n",
    "Under single qubit implementation the protocol provides perfect secrecy. The protocol is also resistant to multi-photon implementations. \n"
   ]
  },
  {
   "cell_type": "markdown",
   "metadata": {
    "slideshow": {
     "slide_type": "slide"
    }
   },
   "source": [
    "***\n",
    "***\n",
    "## 3-Stage QKD Simulator (Interactive)\n",
    "\n",
    "**Execute the program and follow the prompt below**"
   ]
  },
  {
   "cell_type": "code",
   "execution_count": 1,
   "metadata": {},
   "outputs": [
    {
     "name": "stdout",
     "output_type": "stream",
     "text": [
      "\n",
      "\n",
      "-----------------------------------------------------\n",
      "\n",
      "\n",
      "Hello, please create a basis; select an option below\n",
      "1. Pre-set Basis \n",
      "2. Custom Basis\n",
      "1\n",
      "Choose one of the following basis (in degrees)\n",
      "1. {0,90}\n",
      "2. {-45,45}\n",
      "3. {30,120}2\n",
      "Input a binary string (ex. 10110011), this will act as the message\n",
      "101\n",
      "\n",
      "\n",
      "-----------------------------------------------------\n",
      "\n",
      "\n"
     ]
    }
   ],
   "source": [
    "import  cmath, numpy, math\n",
    "\n",
    "\"\"\"\n",
    "Initialize variables taking user input.\n",
    "\"\"\"\n",
    "print(\"\\n\\n-----------------------------------------------------\\n\\n\")\n",
    "while(True):\n",
    "    choice = input(\"Hello, please create a basis; select an option below\\n1. Pre-set Basis \\n2. Custom Basis\\n\")\n",
    "    if (choice == \"1\"):\n",
    "        while(True):\n",
    "            choice2 = input(\"Choose one of the following basis (in degrees)\\n1. {0,90}\\n2. {-45,45}\\n3. {30,120}\")\n",
    "            if (choice2 == \"1\"):\n",
    "                basis = (\"0\",\"90\")\n",
    "                break\n",
    "            if (choice2 == \"2\"):\n",
    "                basis = (\"-45\",\"45\")\n",
    "                break\n",
    "            if (choice2 == \"3\"):\n",
    "                basis = (\"30\",\"120\")\n",
    "                break\n",
    "        break\n",
    "    if (choice == \"2\"):\n",
    "        while(True):\n",
    "            #\"Enter a measurement basis in the format {x, y}, where x and y are in degrees:\"\n",
    "            inall=input(\"Enter a measurement basis in the format {x, y}, where x and y are in degrees:\\n\").strip(\"{}\").replace(\" \",\"\")\n",
    "            in1 = inall.split(\",\")[0]\n",
    "            in2 = inall.split(\",\")[1]\n",
    "            if(float(in1)+90 == float(in2) or float(in2)+90 == float(in1)):\n",
    "                basis = (in1,in2)\n",
    "                break\n",
    "            else:\n",
    "                print(\"Your basis must be 90 degrees apart!\")\n",
    "        break\n",
    "basis1 = basis[0]\n",
    "basis2 = basis[1]\n",
    "basis = (basis1,basis2)\n",
    "while(True):\n",
    "    try:\n",
    "        binary1 = int(input(\"Input a binary string (ex. 10110011), this will act as the message\\n\"), 2)\n",
    "        break\n",
    "    except ValueError:\n",
    "        print(\"Try Again! String must be in binary format (ex. 10110011)\")\n",
    "\n",
    "\n",
    "messagetosend = format(binary1, 'b')\n",
    "\n",
    "print(\"\\n\\n-----------------------------------------------------\\n\\n\")"
   ]
  },
  {
   "cell_type": "code",
   "execution_count": 5,
   "metadata": {},
   "outputs": [
    {
     "name": "stdout",
     "output_type": "stream",
     "text": [
      "What is Alices secret rotation (in degrees)\n",
      "40\n",
      "What is Bob's secret rotation (in degrees)\n",
      "200\n",
      "Sending bit: 1\n",
      "Sending [0.7071067811865476, 0.7071067811865476]\n",
      "Applying Alice's secret rotation...\n",
      "Transmitting qubit: [0.0871557427476582, 0.9961946980917455] to Bob\n",
      "Applying Bob's secret rotation...\n",
      "Bob Transmitting qubit: [0.25881904510252063, -0.9659258262890684] Back to Alice\n",
      "Applying Alice's inverse secret rotation...\n",
      "Alice Transmitting qubit: [-0.42261826174069955, -0.9063077870366499] after applying Hermitian transformation\n",
      "Applying Bob's inverse secret rotation...\n",
      "Recieved qubit is: [0.7071067811865476, 0.7071067811865476]\n",
      "Therefore, the received bit after measurement is 1\n",
      "Sending bit: 0\n",
      "Sending [0.7071067811865476, -0.7071067811865476]\n",
      "Applying Alice's secret rotation...\n",
      "Transmitting qubit: [0.9961946980917455, -0.0871557427476582] to Bob\n",
      "Applying Bob's secret rotation...\n",
      "Bob Transmitting qubit: [-0.9659258262890684, -0.25881904510252063] Back to Alice\n",
      "Applying Alice's inverse secret rotation...\n",
      "Alice Transmitting qubit: [-0.9063077870366499, 0.4226182617406995] after applying Hermitian transformation\n",
      "Applying Bob's inverse secret rotation...\n",
      "Recieved qubit is: [0.7071067811865475, -0.7071067811865476]\n",
      "Therefore, the received bit after measurement is 0\n",
      "Sending bit: 1\n",
      "Sending [0.7071067811865476, 0.7071067811865476]\n",
      "Applying Alice's secret rotation...\n",
      "Transmitting qubit: [0.0871557427476582, 0.9961946980917455] to Bob\n",
      "Applying Bob's secret rotation...\n",
      "Bob Transmitting qubit: [0.25881904510252063, -0.9659258262890684] Back to Alice\n",
      "Applying Alice's inverse secret rotation...\n",
      "Alice Transmitting qubit: [-0.42261826174069955, -0.9063077870366499] after applying Hermitian transformation\n",
      "Applying Bob's inverse secret rotation...\n",
      "Recieved qubit is: [0.7071067811865476, 0.7071067811865476]\n",
      "Therefore, the received bit after measurement is 1\n",
      "Alice's transmitted message was 101\n",
      "Bob's recieved message was [1, 0, 1]\n"
     ]
    }
   ],
   "source": [
    "# function to generate a unitary transformation matrix\n",
    "def unitary_matrix(theta_deg):\n",
    "    theta_rad = math.radians(theta_deg)\n",
    "    unitary_matrix = numpy.array([[math.cos(theta_rad), -math.sin(theta_rad)],\n",
    "                     [math.sin(theta_rad), math.cos(theta_rad)]])\n",
    "    return unitary_matrix\n",
    "\n",
    "arot = float(input(\"What is Alices secret rotation (in degrees)\\n\"))%360\n",
    "brot = float(input(\"What is Bob's secret rotation (in degrees)\\n\"))%360\n",
    "\n",
    "# Generate unitary transformation matrices for Alice and Bob\n",
    "asecretrot = unitary_matrix(arot)\n",
    "bsecretrot = unitary_matrix(brot)\n",
    "\n",
    "receivedmessage = []\n",
    "\"\"\"\n",
    "This function takes in a bit to send and applies the three step protocol to the bit as it is sent back and forth from a hypothetical Alice to Bob.\n",
    "\"\"\"\n",
    "bit_zero = numpy.array([numpy.cos(numpy.radians(float(basis1))), numpy.sin(numpy.radians(float(basis1)))])\n",
    "bit_one = numpy.array([numpy.cos(numpy.radians(float(basis1) + 90)), numpy.sin(numpy.radians(float(basis1) + 90))])\n",
    "\n",
    "def sendbit(bit):\n",
    "    print(\"Sending bit: \"+bit)\n",
    "    tosend = numpy.array([math.cos(math.radians(float(basis1) + (90 * float(bit)))),math.sin(math.radians(float(basis1) + (90 * float(bit))))])\n",
    "    print(\"Sending \"+ str(tosend.tolist()))\n",
    "    amessage = aliceone(asecretrot, tosend)\n",
    "    print (\"Transmitting qubit: \" + str(amessage.tolist())+ \" to Bob\")\n",
    "    abmessage = bobone(bsecretrot, amessage)\n",
    "    print(\"Bob Transmitting qubit: \"+ str(abmessage.tolist())+\" Back to Alice\")\n",
    "    bmessage = alicetwo(asecretrot, abmessage)\n",
    "    print(\"Alice Transmitting qubit: \"+ str(bmessage.tolist())+\" after applying Hermitian transformation\")\n",
    "    message = bobtwo(bsecretrot,bmessage)\n",
    "    print(\"Recieved qubit is: \"+str(message.tolist()) + \"\\nTherefore, the received bit after measurement is \"+bit)\n",
    "    given_vector = numpy.array(message)\n",
    "\n",
    "    # Define tolerance for comparison\n",
    "    tolerance = 1e-6\n",
    "    if numpy.allclose(given_vector, bit_zero, atol=tolerance):\n",
    "        bit = 0\n",
    "    elif numpy.allclose(given_vector, bit_one, atol=tolerance):\n",
    "        bit = 1\n",
    "    else:\n",
    "        print(\"Given vector does not match bit_zero or bit_one within tolerance.\")\n",
    "\n",
    "    receivedmessage.append(bit)\n",
    "    \n",
    "\"\"\"\n",
    "Alice takes the message qubit and applies her secret rotation.\n",
    "\"\"\"\n",
    "def aliceone(secret,qubit):\n",
    "    print(\"Applying Alice's secret rotation...\")\n",
    "    return  numpy.dot(secret,qubit)\n",
    "\n",
    "\"\"\"\n",
    "Bob recieves the qubit from Alice and applies his secret rotation\n",
    "\"\"\"\n",
    "def bobone(secret, qubit):\n",
    "    print(\"Applying Bob's secret rotation...\")\n",
    "    return numpy.dot(secret,qubit)\n",
    "\"\"\"\n",
    "Alice applies the inverse of her secret rotation so only Bobs rotation is on the qubit.\n",
    "\"\"\"\n",
    "def alicetwo(secret,qubit):\n",
    "    print(\"Applying Alice's inverse secret rotation...\")\n",
    "    return  numpy.dot(secret.conj().T,qubit)\n",
    "\n",
    "\"\"\"\n",
    "Bob applies the inverse of his secret rotation on the qubit.\n",
    "\n",
    "Now Bob has just the plain qubit. \n",
    "\"\"\"\n",
    "def bobtwo(secret,qubit):\n",
    "    print(\"Applying Bob's inverse secret rotation...\")\n",
    "    return  numpy.dot(secret.conj().T,qubit)\n",
    "\n",
    "\n",
    "\n",
    "for digit in messagetosend:\n",
    "    sendbit(digit)\n",
    "    \n",
    "print(\"Alice's transmitted message was \"+ messagetosend)\n",
    "\n",
    "print(\"Bob's recieved message was \"+ str(receivedmessage))\n"
   ]
  }
 ],
 "metadata": {
  "celltoolbar": "Slideshow",
  "kernelspec": {
   "display_name": "Python 3 (ipykernel)",
   "language": "python",
   "name": "python3"
  },
  "language_info": {
   "codemirror_mode": {
    "name": "ipython",
    "version": 3
   },
   "file_extension": ".py",
   "mimetype": "text/x-python",
   "name": "python",
   "nbconvert_exporter": "python",
   "pygments_lexer": "ipython3",
   "version": "3.10.9"
  }
 },
 "nbformat": 4,
 "nbformat_minor": 4
}
